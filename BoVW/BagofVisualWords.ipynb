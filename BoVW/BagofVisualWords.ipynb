{
 "cells": [
  {
   "cell_type": "markdown",
   "metadata": {},
   "source": [
    "# Lab 2: Bag of Visual Words Image Classification"
   ]
  },
  {
   "cell_type": "markdown",
   "metadata": {},
   "source": [
    "Team 3: Zuzanna Szafranowska, Claudia Baca, Quim Comas"
   ]
  },
  {
   "cell_type": "code",
   "execution_count": 27,
   "metadata": {},
   "outputs": [],
   "source": [
    "import cv2\n",
    "import numpy as np\n",
    "import itertools\n",
    "#inPython3.x:\n",
    "import pickle as cPickle\n",
    "#in Python2.x:\n",
    "#import cPickle\n",
    "from sklearn.model_selection import cross_val_score, StratifiedKFold\n",
    "import matplotlib.pyplot as plt\n",
    "from sklearn.cluster import MiniBatchKMeans\n",
    "from sklearn.neighbors import KNeighborsClassifier\n",
    "from sklearn import svm\n",
    "from sklearn.preprocessing import StandardScaler,normalize, Normalizer,PowerTransformer\n",
    "from sklearn.metrics import confusion_matrix,precision_recall_fscore_support\n",
    "import time\n",
    "# from sklearn.cross_validation import StratifiedKFold\n",
    "\n"
   ]
  },
  {
   "cell_type": "markdown",
   "metadata": {},
   "source": [
    "Let us first read the train and test files"
   ]
  },
  {
   "cell_type": "code",
   "execution_count": 28,
   "metadata": {
    "scrolled": true
   },
   "outputs": [],
   "source": [
    "train_images_filenames = cPickle.load(open('train_images_filenames.dat','rb'))\n",
    "test_images_filenames = cPickle.load(open('test_images_filenames.dat','rb'))\n",
    "train_labels = cPickle.load(open('train_labels.dat','rb'))\n",
    "test_labels = cPickle.load(open('test_labels.dat','rb'))"
   ]
  },
  {
   "cell_type": "markdown",
   "metadata": {},
   "source": [
    "<h1>Feature extraction, descriptors</h1>\n",
    "\n",
    "We create detectors and descriptors: SIFT, SURF, ORB"
   ]
  },
  {
   "cell_type": "code",
   "execution_count": 29,
   "metadata": {},
   "outputs": [],
   "source": [
    "SIFTdetector = cv2.xfeatures2d.SIFT_create(nfeatures=300)\n",
    "SURFdetector = cv2.xfeatures2d.SURF_create(300)\n",
    "ORBdetector = cv2.ORB_create()"
   ]
  },
  {
   "cell_type": "markdown",
   "metadata": {},
   "source": [
    "We choose the type of local feature detector that we want to use. \n",
    "\n",
    "- 1 ==> SIFT\n",
    "- 2 ==> SURF\n",
    "- 3 ==> ORB\n",
    "- 4 ==> Dense SIFT\n",
    "- 5 ==> Dense SURF\n"
   ]
  },
  {
   "cell_type": "code",
   "execution_count": 30,
   "metadata": {},
   "outputs": [],
   "source": [
    "k = 256\n",
    "#codebook size\n",
    "x=4\n",
    "#x = input(\"Enter a number to choose the local feature detector: \")\n",
    "L=2\n",
    "#Enter the number levels of the spatial pyramid (O to L)\n",
    "norm=0\n",
    "#Type of normalization of 1 L2 and 2 Power, 0 if none\n",
    "step_size = 5\n",
    "#step size of Dense SIFT and SURF\n",
    "scale=5\n",
    "#scale of Dense SIFT and SURF\n"
   ]
  },
  {
   "cell_type": "code",
   "execution_count": 31,
   "metadata": {},
   "outputs": [],
   "source": [
    "def descriptors(gray,x):\n",
    "    if(x==1):\n",
    "        kpt,des=SIFTdetector.detectAndCompute(gray,None)\n",
    "    if(x==2):\n",
    "        kpt,des=SURFdetector.detectAndCompute(gray,None)\n",
    "    if(x==3):\n",
    "        kpt,des=ORBdetector.detectAndCompute(gray,None)\n",
    "    if(x==4):\n",
    "        kpt = [cv2.KeyPoint(x, y, scale) for y in range(0, gray.shape[0], step_size) \n",
    "                                            for x in range(0, gray.shape[1], step_size)]\n",
    "        kpt,des=SIFTdetector.compute(gray,kpt)\n",
    "    if(x==5):\n",
    "        \n",
    "        kpt = [cv2.KeyPoint(x, y, scale) for y in range(0, gray.shape[0], step_size) \n",
    "                                            for x in range(0, gray.shape[1], step_size)]\n",
    "        kpt,des=SURFdetector.compute(gray,kpt)\n",
    "    return kpt, des"
   ]
  },
  {
   "cell_type": "code",
   "execution_count": 32,
   "metadata": {},
   "outputs": [],
   "source": [
    "#obsolete\n",
    "def normalize(hist1):\n",
    "    if(norm==1):\n",
    "        hist2=np.linalg.norm(x, ord=2)\n",
    "        normhist=hist1 / hist2\n",
    "    if(norm==2):\n",
    "        hist=np.linalg.norm(x, ord=2)\n",
    "\n",
    "    return normhist       "
   ]
  },
  {
   "cell_type": "markdown",
   "metadata": {},
   "source": [
    "<h1>Bow</h1>\n",
    "\n",
    "We compute the indicated descriptor for all the train images and subsequently build a numpy array with all the descriptors stacked together, then we   compute a k-means clustering on the descriptor space, where we test 3 different codebook sizes k (64,128,256). And, for each train image, we project each keypoint descriptor to its closest visual word. We represent each of the images with the frequency of each visual word."
   ]
  },
  {
   "cell_type": "code",
   "execution_count": 275,
   "metadata": {},
   "outputs": [],
   "source": [
    "def Bow(train_images_filenames,train_labels):\n",
    "    Train_descriptors = []\n",
    "    Train_label_per_descriptor = []\n",
    "    visual_words=[]\n",
    "    for filename,labels in zip(train_images_filenames,train_labels):\n",
    "        ima=cv2.imread(filename)\n",
    "        gray=cv2.cvtColor(ima,cv2.COLOR_BGR2GRAY)\n",
    "        \n",
    "        kpt,des=descriptors(gray,x)\n",
    "        \n",
    "        Train_descriptors.append(des)\n",
    "        \n",
    "        Train_label_per_descriptor.append(labels)\n",
    "    D=np.vstack(Train_descriptors)\n",
    "    if(norm==1):\n",
    "        transformer = Normalizer(norm = 'l2')\n",
    "        temp = transformer.fit(D)\n",
    "        D = temp.transform(D)\n",
    "        for i in range(len(Train_descriptors)):\n",
    "            Train_descriptors[i] = temp.transform(Train_descriptors[i]) \n",
    "    elif(norm==2):\n",
    "        pt=PowerTransformer()\n",
    "        temp=pt.fit(D)\n",
    "        D=temp.transform(D)\n",
    "        for i in range(len(Train_descriptors)):\n",
    "            Train_descriptors[i] = temp.transform(Train_descriptors[i]) \n",
    "    codebook = MiniBatchKMeans(n_clusters=k, verbose=False, batch_size=k * 20,compute_labels=False,reassignment_ratio=10**-4,random_state=42)\n",
    "    codebook.fit(D)\n",
    "    \n",
    "    visual_words=np.zeros((len(Train_descriptors),k),dtype=np.float32)\n",
    "    for i in range(len(Train_descriptors)): \n",
    "        words=codebook.predict(Train_descriptors[i])\n",
    "        visual_words[i,:]=np.bincount(words,minlength=k)\n",
    "    \n",
    "    return visual_words, codebook\n",
    "    \n",
    "    \n",
    "    "
   ]
  },
  {
   "cell_type": "code",
   "execution_count": 276,
   "metadata": {},
   "outputs": [
    {
     "name": "stdout",
     "output_type": "stream",
     "text": [
      "Time: 204.34430313110352s.\n"
     ]
    }
   ],
   "source": [
    "start = time.time()\n",
    "visual_words,codebook=Bow(train_images_filenames,train_labels)\n",
    "end = time.time()\n",
    "print('Time: {}s.'.format(str(end-start)))"
   ]
  },
  {
   "cell_type": "markdown",
   "metadata": {},
   "source": [
    "<h1>Bow-Spatial Pyramid</h1>\n",
    "\n",
    "We compute the SIFT descriptors for all the train images and subsequently build a numpy array with all the descriptors stacked together"
   ]
  },
  {
   "cell_type": "code",
   "execution_count": 290,
   "metadata": {},
   "outputs": [],
   "source": [
    "def get_spatialpyramid(train_images_filenames,train_labels,l):\n",
    "    Train_descriptors = []\n",
    "    Train_label_per_descriptor = []\n",
    "    visual_words=[]\n",
    "    visualwords=[]\n",
    "    if(l==0):\n",
    "        for filename,labels in zip(train_images_filenames,train_labels):\n",
    "            ima=cv2.imread(filename)\n",
    "            gray=cv2.cvtColor(ima,cv2.COLOR_BGR2GRAY)\n",
    "            kpt,des=descriptors(gray,x)\n",
    "            Train_descriptors.append(des)   \n",
    "        D=np.vstack(Train_descriptors)\n",
    "        if(norm==1):\n",
    "            transformer = Normalizer(norm = 'l2')\n",
    "            temp = transformer.fit(D)\n",
    "            D = temp.transform(D)\n",
    "            for i in range(len(Train_descriptors)):\n",
    "                Train_descriptors[i] = temp.transform(Train_descriptors[i]) \n",
    "        elif(norm==2):\n",
    "            pt=PowerTransformer()\n",
    "            temp=pt.fit(D)\n",
    "            D=temp.transform(D)\n",
    "            for i in range(len(Train_descriptors)):\n",
    "                Train_descriptors[i] = temp.transform(Train_descriptors[i])  \n",
    "        codebook.fit(D)\n",
    "        visualwords=np.zeros((len(Train_descriptors),k),dtype=np.float32)\n",
    "        for i in range(len(Train_descriptors)): \n",
    "            words=codebook.predict(Train_descriptors[i])\n",
    "            visualwords[i,:]=np.bincount(words,minlength=k)\n",
    "            \n",
    "        visual_words=visualwords \n",
    "    else:  \n",
    "        for filename,labels in zip(train_images_filenames,train_labels):\n",
    "            Train_descriptors = []\n",
    "            ima=cv2.imread(filename)\n",
    "            gray=cv2.cvtColor(ima,cv2.COLOR_BGR2GRAY)\n",
    "            wstep=np.int(gray.shape[0]/(2**(l)))\n",
    "            hstep=np.int(gray.shape[1]/(2**(l)))\n",
    "           \n",
    "            for u in range(0,gray.shape[0],wstep):\n",
    "                for f in range(0,gray.shape[1],hstep):  \n",
    "                    kpt,des=descriptors(gray[u:u+hstep, f:f+wstep],x)\n",
    "                    Train_descriptors.append(des)\n",
    "            D=np.vstack(Train_descriptors)        \n",
    "            weight = 2**(L-l) \n",
    "            if(norm==1):\n",
    "                transformer = Normalizer(norm = 'l2')\n",
    "                temp = transformer.fit(D)\n",
    "                D = temp.transform(D)\n",
    "                for i in range(len(Train_descriptors)):\n",
    "                    Train_descriptors[i] =weight*temp.transform(Train_descriptors[i]) \n",
    "            elif(norm==2):\n",
    "                pt=PowerTransformer()\n",
    "                temp=pt.fit(D)\n",
    "                D=temp.transform(D)\n",
    "                for i in range(len(Train_descriptors)):\n",
    "                    Train_descriptors[i] = weight*temp.transform(Train_descriptors[i])          \n",
    "            visualwords=np.zeros((len(Train_descriptors),k),dtype=np.float32)    \n",
    "            for i in range(len(Train_descriptors)): \n",
    "                words=codebook.predict(Train_descriptors[i])\n",
    "                visualwords[i,:]=np.bincount(words,minlength=k)\n",
    "            weight = 2**(L-l)           \n",
    "            visual_words.append((visualwords.ravel()))     \n",
    "    return visual_words,codebook\n",
    "                        "
   ]
  },
  {
   "cell_type": "code",
   "execution_count": 291,
   "metadata": {},
   "outputs": [],
   "source": [
    "k = 256\n",
    "L=0\n",
    "codebook = MiniBatchKMeans(n_clusters=k, verbose=False, batch_size=k * 20,compute_labels=False,reassignment_ratio=10**-4,random_state=42)\n",
    "i=0\n",
    "visual_wordsl0,codebookl0=get_spatialpyramid(train_images_filenames,train_labels,0);\n",
    "visual_wordsl1,codebook11=get_spatialpyramid(train_images_filenames,train_labels,1);  \n",
    "        \n",
    "            "
   ]
  },
  {
   "cell_type": "code",
   "execution_count": 292,
   "metadata": {},
   "outputs": [],
   "source": [
    "visual_words=[]\n",
    "for i in range(len(visual_wordsl0)):\n",
    "    visu=[]\n",
    "    visu=np.append(visual_wordsl0[i],visual_wordsl1[i])\n",
    "    visual_words.append(visu)\n",
    "\n"
   ]
  },
  {
   "cell_type": "code",
   "execution_count": 298,
   "metadata": {},
   "outputs": [],
   "source": [
    "def get_test_spatialpyramid(test_images_filenames,l):\n",
    "    Train_descriptors = []\n",
    "    Train_label_per_descriptor = []\n",
    "    visual_words=[]\n",
    "    visualwords=[]\n",
    "    if(l==0):\n",
    "        for i in range(len(test_images_filenames)):\n",
    "            filename=test_images_filenames[i]\n",
    "            ima=cv2.imread(filename)\n",
    "            gray=cv2.cvtColor(ima,cv2.COLOR_BGR2GRAY)\n",
    "            kpt,des=descriptors(gray,x)\n",
    "            Train_descriptors.append(des)   \n",
    "        D=np.vstack(Train_descriptors)\n",
    "        if(norm==1):\n",
    "            transformer = Normalizer(norm = 'l2')\n",
    "            temp = transformer.fit(D)\n",
    "            D = temp.transform(D)\n",
    "            for i in range(len(Train_descriptors)):\n",
    "                Train_descriptors[i] = temp.transform(Train_descriptors[i]) \n",
    "        elif(norm==2):\n",
    "            pt=PowerTransformer()\n",
    "            temp=pt.fit(D)\n",
    "            D=temp.transform(D)\n",
    "            for i in range(len(Train_descriptors)):\n",
    "                Train_descriptors[i] = temp.transform(Train_descriptors[i])  \n",
    "        codebook.fit(D)\n",
    "        visualwords=np.zeros((len(Train_descriptors),k),dtype=np.float32)\n",
    "        for i in range(len(Train_descriptors)): \n",
    "            words=codebook.predict(Train_descriptors[i])\n",
    "            visualwords[i,:]=np.bincount(words,minlength=k)\n",
    "            \n",
    "        visual_words=visualwords \n",
    "    else:  \n",
    "        for i in range(len(test_images_filenames)):\n",
    "            Train_descriptors = []\n",
    "            filename=test_images_filenames[i]\n",
    "            ima=cv2.imread(filename)\n",
    "            gray=cv2.cvtColor(ima,cv2.COLOR_BGR2GRAY)\n",
    "            wstep=np.int(gray.shape[0]/(2**(l)))\n",
    "            hstep=np.int(gray.shape[1]/(2**(l)))\n",
    "           \n",
    "            for u in range(0,gray.shape[0],wstep):\n",
    "                for f in range(0,gray.shape[1],hstep):  \n",
    "                    kpt,des=descriptors(gray[u:u+hstep, f:f+wstep],x)\n",
    "                    Train_descriptors.append(des)\n",
    "            D=np.vstack(Train_descriptors)        \n",
    "            weight = 2**(L-l) \n",
    "            if(norm==1):\n",
    "                transformer = Normalizer(norm = 'l2')\n",
    "                temp = transformer.fit(D)\n",
    "                D = temp.transform(D)\n",
    "                for i in range(len(Train_descriptors)):\n",
    "                    Train_descriptors[i] =weight*temp.transform(Train_descriptors[i]) \n",
    "            elif(norm==2):\n",
    "                pt=PowerTransformer()\n",
    "                temp=pt.fit(D)\n",
    "                D=temp.transform(D)\n",
    "                for i in range(len(Train_descriptors)):\n",
    "                    Train_descriptors[i] = weight*temp.transform(Train_descriptors[i])          \n",
    "            visualwords=np.zeros((len(Train_descriptors),k),dtype=np.float32)    \n",
    "            for i in range(len(Train_descriptors)): \n",
    "                words=codebook.predict(Train_descriptors[i])\n",
    "                visualwords[i,:]=np.bincount(words,minlength=k)\n",
    "            weight = 2**(L-l)           \n",
    "            visual_words.append((visualwords.ravel()))     \n",
    "    return visual_words,codebook\n"
   ]
  },
  {
   "cell_type": "code",
   "execution_count": 299,
   "metadata": {},
   "outputs": [],
   "source": [
    "visual_wordsl0test,codebookl0test=get_test_spatialpyramid(test_images_filenames,0)\n",
    "visual_wordsl1test,codebookl1test=get_test_spatialpyramid(test_images_filenames,1)\n",
    "visual_words_test=[]\n",
    "for i in range(len(visual_wordsl0test)):\n",
    "    visu=[]\n",
    "    visu=np.append(visual_wordsl0test[i],visual_wordsl1test[i])\n",
    "    visual_words_test.append(visu)"
   ]
  },
  {
   "cell_type": "markdown",
   "metadata": {},
   "source": [
    "Before applying the SVM we create the histogram intersection kernel (it is not available in the sklearn library):"
   ]
  },
  {
   "cell_type": "code",
   "execution_count": 277,
   "metadata": {},
   "outputs": [],
   "source": [
    "def histogram_intersection(M,N):\n",
    "    M_samples, M_features = M.shape\n",
    "    N_samples, N_features = N.shape\n",
    "    \n",
    "    K_int= np.zeros(shape=(M_samples,N_samples),dtype= np.float)\n",
    "    for i in range(M_samples):\n",
    "        for j in range(N_samples):\n",
    "            K_int[i,j]=np.minimum(M[i,:],N[j,:]).sum()\n",
    "    \n",
    "    return K_int"
   ]
  },
  {
   "cell_type": "markdown",
   "metadata": {},
   "source": [
    "Creating folds for Cross-Validation"
   ]
  },
  {
   "cell_type": "code",
   "execution_count": 278,
   "metadata": {},
   "outputs": [],
   "source": [
    "K_cv=3\n",
    "skf = StratifiedKFold(n_splits=K_cv)"
   ]
  },
  {
   "cell_type": "markdown",
   "metadata": {},
   "source": [
    "<h1>SVM kernels</h1>\n",
    "In this step we add the SVM classifier to train our data. Before train our visual words, we preprocess the data standardizing the features by removing the mean and scaling to unit variance. In our implementation we can choose between different types of kernels:\n",
    "\n",
    "- Linear Kernel --> 'linear'\n",
    "- Rbf Kernel --> 'rbf'\n",
    "- Polynomial Kernel --> 'poly'\n",
    "- Sigmoid Kernel --> 'sigmoid'\n",
    "- Histogram Intersection Kernel --> 'histogram'"
   ]
  },
  {
   "cell_type": "code",
   "execution_count": 293,
   "metadata": {},
   "outputs": [
    {
     "name": "stdout",
     "output_type": "stream",
     "text": [
      "\n",
      "===================FOLD= 0\n",
      "\n",
      "===================FOLD= 1\n",
      "\n",
      "===================FOLD= 2\n",
      "Time: 50.82349109649658s.\n"
     ]
    }
   ],
   "source": [
    "#Choose the type of kernel (histogram by default):\n",
    "\n",
    "Kernel= 'histogram'\n",
    "\n",
    "stdSlr= StandardScaler().fit(visual_words)\n",
    "scaled = stdSlr.transform(visual_words)\n",
    "start=time.time()\n",
    "if(Kernel=='linear'):\n",
    "    clf= svm.SVC(kernel='linear',C=0.01,gamma=0.002)\n",
    "if(Kernel=='rbf'):\n",
    "    clf= svm.SVC(kernel='rbf',C=1,gamma=0.002)\n",
    "if(Kernel=='poly'):\n",
    "    clf= svm.SVC(kernel='poly',C=1,gamma=1)\n",
    "if(Kernel=='sigmoid'):\n",
    "    clf= svm.SVC(kernel='sigmoid',C=1,gamma=0.002)\n",
    "if(Kernel=='histogram'): \n",
    "    clf= svm.SVC(kernel='precomputed',C=0.01) \n",
    "        \n",
    "folds = list(skf.split(scaled, train_labels))\n",
    "for j, (train_idx, test_idx) in enumerate(folds):\n",
    "    print('\\n===================FOLD=',j)\n",
    "    train_labels=np.asarray(train_labels)\n",
    "\n",
    "    scaled_train, scaled_valid = scaled[train_idx], scaled[test_idx]\n",
    "    labels_train, labels_valid = train_labels[train_idx], train_labels[test_idx]\n",
    "\n",
    "    if(Kernel=='histogram'): \n",
    "        kernel=histogram_intersection(scaled_train,scaled_train)\n",
    "        clf.fit(kernel,labels_train)  \n",
    "    else:\n",
    "        clf.fit(scaled_train,labels_train)\n",
    "\n",
    "    if(Kernel!='histogram'):\n",
    "        accuracy = 100*clf.score(scaled_valid, labels_valid)\n",
    "        print(accuracy)\n",
    "end=time.time()\n",
    "print('Time: {}s.'.format(str(end-start)))\n",
    "        \n"
   ]
  },
  {
   "cell_type": "markdown",
   "metadata": {},
   "source": [
    "To see the effect of K value in KNN classifier we perform a 10 fold cross validation with our training set to estimate the optimal K value. Also we represent the evolution of the accuracy for each k value to see the influence of the k value:   "
   ]
  },
  {
   "cell_type": "code",
   "execution_count": 294,
   "metadata": {},
   "outputs": [
    {
     "data": {
      "image/png": "[encoded data removed]",
      "text/plain": [
       "<Figure size 432x288 with 1 Axes>"
      ]
     },
     "metadata": {
      "needs_background": "light"
     },
     "output_type": "display_data"
    },
    {
     "name": "stdout",
     "output_type": "stream",
     "text": [
      "The optimal k value is 10\n"
     ]
    }
   ],
   "source": [
    "neighbors = list(filter(lambda x: x % 2 == 0, list(range(1,50))))\n",
    "cv_scores = []\n",
    "\n",
    "for kk in neighbors:\n",
    "    knn = KNeighborsClassifier(n_neighbors=kk,n_jobs=-1,metric='braycurtis')\n",
    "    scores = cross_val_score(knn, visual_words, train_labels, cv=10, scoring='accuracy')\n",
    "    cv_scores.append(scores.mean())\n",
    "\n",
    "optimal_k = neighbors[cv_scores.index(max(cv_scores))]\n",
    "\n",
    "plt.title('Accuracy as a function of K')\n",
    "plt.plot(neighbors, cv_scores)\n",
    "plt.xlabel('Number of Neighbors K')\n",
    "plt.ylabel('Train Accuracy')\n",
    "plt.show()\n",
    "#python2.x\n",
    "#print(\"The optimal k value is %d\" % optimal_k)\n",
    "#python3.x\n",
    "print(\"The optimal k value is %d\" % optimal_k)"
   ]
  },
  {
   "cell_type": "markdown",
   "metadata": {},
   "source": [
    "We build a k-nn classifier and train it with the train descriptors"
   ]
  },
  {
   "cell_type": "code",
   "execution_count": 295,
   "metadata": {},
   "outputs": [
    {
     "name": "stdout",
     "output_type": "stream",
     "text": [
      "\n",
      "===================FOLD= 0\n",
      "77.02060221870047\n",
      "\n",
      "===================FOLD= 1\n",
      "79.26634768740031\n",
      "\n",
      "===================FOLD= 2\n",
      "78.1701444622793\n",
      "Time: 211.34826803207397s.\n"
     ]
    }
   ],
   "source": [
    "folds = skf.split(visual_words, train_labels)\n",
    "knn = KNeighborsClassifier(n_neighbors=optimal_k,n_jobs=-1,metric='braycurtis')\n",
    "\n",
    "for j, (train_idx, test_idx) in enumerate(folds):\n",
    "    print('\\n===================FOLD=',j)\n",
    "    train_labels=np.asarray(train_labels)\n",
    "\n",
    "    visual_words_train=[visual_words[j] for j in train_idx]\n",
    "    visual_words_valid =[visual_words[j] for j in test_idx]\n",
    "    labels_train, labels_valid = train_labels[train_idx], train_labels[test_idx]\n",
    "    knn.fit(visual_words_train, labels_train) \n",
    "    accuracy = 100*knn.score(visual_words_valid, labels_valid)\n",
    "    print(accuracy)\n",
    "end=time.time()\n",
    "print('Time: {}s.'.format(str(end-start)))"
   ]
  },
  {
   "cell_type": "markdown",
   "metadata": {},
   "source": [
    "We end up computing the test descriptors and compute the accuracy of the model"
   ]
  },
  {
   "cell_type": "code",
   "execution_count": null,
   "metadata": {},
   "outputs": [],
   "source": [
    "visual_words_test=np.zeros((len(test_images_filenames),k),dtype=np.float32)\n",
    "for i in range(len(test_images_filenames)):\n",
    "    filename=test_images_filenames[i]\n",
    "    ima=cv2.imread(filename)\n",
    "    gray=cv2.cvtColor(ima,cv2.COLOR_BGR2GRAY)\n",
    "    \n",
    "    kpt,des=descriptors(gray,x)\n",
    "        \n",
    "    words=codebook.predict(des)\n",
    "    visual_words_test[i,:]=np.bincount(words,minlength=k)"
   ]
  },
  {
   "cell_type": "markdown",
   "metadata": {},
   "source": [
    "<h1>Evaluation</h1>\n",
    "\n",
    "In the next step we perform the confusion matrix to evaluate our classifier with respect the 8 image classes:"
   ]
  },
  {
   "cell_type": "code",
   "execution_count": 300,
   "metadata": {},
   "outputs": [
    {
     "data": {
      "image/png": "[encoded data removed]",
      "text/plain": [
       "<Figure size 432x288 with 2 Axes>"
      ]
     },
     "metadata": {
      "needs_background": "light"
     },
     "output_type": "display_data"
    }
   ],
   "source": [
    "classes = list(set(test_labels))\n",
    "\n",
    "if(Kernel== 'histogram'):\n",
    "    predict= histogram_intersection(stdSlr.transform(visual_words_test),scaled_train)\n",
    "    predictions= clf.predict(predict)\n",
    "else:\n",
    "    predictions= clf.predict(stdSlr.transform(visual_words_test))\n",
    "\n",
    "conf_matrix= confusion_matrix(test_labels,predictions)\n",
    "plt.figure()\n",
    "plt.imshow(conf_matrix, interpolation='nearest', cmap=plt.cm.Greens)\n",
    "plt.title('Confusion matrix')\n",
    "plt.colorbar()\n",
    "tick_marks = np.arange(len(classes))\n",
    "plt.xticks(tick_marks, classes, rotation=90)\n",
    "plt.yticks(tick_marks, classes)\n",
    "\n",
    "thresh = conf_matrix.max() / 2.\n",
    "for i, j in itertools.product(range(conf_matrix.shape[0]), range(conf_matrix.shape[1])):\n",
    "    plt.text(j, i, conf_matrix[i, j],horizontalalignment=\"center\",color=\"white\" if conf_matrix[i, j] > thresh else \"black\")\n"
   ]
  },
  {
   "cell_type": "markdown",
   "metadata": {},
   "source": [
    "To obtain more information about our classification we compute other mesuares like precision, recall and f-score to complement the confusion matrix and the accuracy:"
   ]
  },
  {
   "cell_type": "code",
   "execution_count": 301,
   "metadata": {},
   "outputs": [
    {
     "name": "stdout",
     "output_type": "stream",
     "text": [
      "13.10965291343058\n",
      "16.464502720389902\n",
      "12.931662625306528\n"
     ]
    },
    {
     "name": "stderr",
     "output_type": "stream",
     "text": [
      "/Users/claudiabacaperez/anaconda2/envs/ipykernel_py3/lib/python3.6/site-packages/sklearn/metrics/classification.py:1143: UndefinedMetricWarning: Precision and F-score are ill-defined and being set to 0.0 in labels with no predicted samples.\n",
      "  'precision', 'predicted', average, warn_for)\n"
     ]
    }
   ],
   "source": [
    "precision, recall, fscore, support= precision_recall_fscore_support(test_labels, predictions,average='macro')\n",
    "\n",
    "print (precision*100)\n",
    "print (recall*100)\n",
    "print (fscore*100)"
   ]
  },
  {
   "cell_type": "markdown",
   "metadata": {},
   "source": [
    "Finally, we compute the accuracy for SVM and KNN:"
   ]
  },
  {
   "cell_type": "code",
   "execution_count": 285,
   "metadata": {},
   "outputs": [
    {
     "name": "stdout",
     "output_type": "stream",
     "text": [
      "72.73853779429987\n"
     ]
    }
   ],
   "source": [
    "if Kernel == 'histogram':\n",
    "    accuracy_svm = 100*clf.score(predict, test_labels)\n",
    "else:\n",
    "    accuracy_svm = 100*clf.score(stdSlr.transform(visual_words_test), test_labels)\n",
    "print(accuracy_svm)"
   ]
  },
  {
   "cell_type": "code",
   "execution_count": 286,
   "metadata": {
    "scrolled": true
   },
   "outputs": [
    {
     "name": "stdout",
     "output_type": "stream",
     "text": [
      "72.4907063197026\n"
     ]
    }
   ],
   "source": [
    "accuracy_knn = 100*knn.score(visual_words_test, test_labels)\n",
    "print(accuracy_knn)"
   ]
  },
  {
   "cell_type": "markdown",
   "metadata": {},
   "source": [
    "<h1>Conclusions</h1>\n",
    "\n",
    "Finally, in this last section we will expose all results and conclusions of this second lab. \n",
    "\n",
    "\n",
    "First of all, we will focus on SVM classifier and SVM Kernels. In this second lab, we have changed the KNN classifier for the SVM classifier, which has caused an improvement in terms of accuracy. To analyze in more depth the different SVM Kernels we define a initial parameters to see the effects of the different parameters. The different SVM kernels that we have implemented are: Linear kernel, Radial basis function kernel, Polynomial kernel, Sigmoid kernel and finally we have performed  \n",
    "\n",
    "\n",
    "- Using initial parameters: \n",
    "\n",
    "    Codebook = 256;\n",
    "    Trade off C=1;\n",
    "    Gamma=0.002;\n",
    "    Dense SIFT\n",
    "\n",
    "\n",
    "| Kernels | Accuracy | CV time |\n",
    "| --- | --- |--- |\n",
    "| Linear |  82.2800 | 1.1656 s |\n",
    "| Radial Basis Function |  84.0148 | 1.7813 s |\n",
    "| Polynomial |  36.4312 | 3.1022 s |\n",
    "|  Sigmoid |  82.6517 | 1.5055 s |\n",
    "| Histogram intersection |  85.7496 | 61.7647 s | \n",
    "\n",
    "- Changing the parameter C: \n",
    "\n",
    "| Kernels | Accuracy, C=0.001  | Accuracy, C=0.01  | Accuracy, C=0.1 | Accuracy, C=0.5 |\n",
    "| --- | --- |--- |--- |\n",
    "| Linear | 81.9083 |84.0148 | 82.5278 | 82.2800 |\n",
    "| Radial Basis Function | 14.6220 |  14.6220 | 14.6220 | 82.7757|\n",
    "| Polynomial | 14.6220 | 14.6221 | 14.6220 | 26.2701 |\n",
    "| Sigmoid | 14.6220 | 14.6220 | 14.6220 | 26.2701 |\n",
    "| Histogram intersection | 81.1648| 85.9975 | 85.7496 | 85.7496 |  \n",
    "\n",
    "- Changing the parameter gamma: \n",
    "\n",
    "| Kernels | Accuracy, gamma=0.0001  | Accuracy, gamma=0.01  | Accuracy, gamma=0.1 | Accuracy, gamma=1 |\n",
    "| --- | --- |--- |--- |\n",
    "| Linear | 82.2800 |82.2800 | 82.2800 | 82.2800 |\n",
    "| Radial Basis Function | 74.3494 |  81.0408 | 14.6220 | 14.6220|\n",
    "| Polynomial | 14.6220 | 79.0582 | 79.1821 | 79.1821|\n",
    "| Sigmoid | 59.1078 | 71.7472 | 39.5291 | 39.9008|\n",
    "| Histogram intersection | 85.7496 | 85.7496 | 85.7496 | 85.7496 | \n",
    "\n",
    "- Using optimal values for C and gamma from previous tables:\n",
    "\n",
    "| Kernels | Accuracy | Final parameters | CV time |\n",
    "| --- | --- |--- |--- |\n",
    "| Linear |  84.0148 | C= 0.01; gamma= 0.002| 1.2401 s |\n",
    "| Radial Basis Function |  84.0148 |C= 1 ; gamma= 0.002| 1.7813 s |\n",
    "| Polynomial |  79.1821 |C= 1 ; gamma= 1 | 29.4810 s |\n",
    "|  Sigmoid|  82.6517 | C= 1; gamma= 0.002| 1.5055 s |\n",
    "| Histogram intersection |  85.9975 | C= 0.01; gamma= 0.002| 59.8077 s |\n",
    "\n",
    "\n",
    "| SIFT scale | Accuracy | Execution time |\n",
    "| --- | --- |--- |\n",
    "| 3  |  85.1301 |  318.44 s |\n",
    "| 5  |  85.9975 |  531.40 s |\n",
    "| 7  |  86.6171 |  711.20 s |\n",
    "| 10 |  84.5102 | 1074.69 s |\n",
    "\n",
    "\n",
    "\n",
    "| Codebook size | Accuracy | Execution time |\n",
    "| --- | --- |--- |\n",
    "| 128 |  83.3952 |  462.44 s |\n",
    "| 256 |  85.9975 |  531.40 s |\n",
    "| 512 |  87.2366 | 1092.52 s |\n",
    "| 1024|  88.3519 | 1808.38 s |\n",
    "\n",
    "\n",
    "\n"
   ]
  },
  {
   "cell_type": "code",
   "execution_count": null,
   "metadata": {},
   "outputs": [],
   "source": []
  },
  {
   "cell_type": "code",
   "execution_count": null,
   "metadata": {},
   "outputs": [],
   "source": []
  }
 ],
 "metadata": {
  "kernelspec": {
   "display_name": "Python 3",
   "language": "python",
   "name": "python3"
  },
  "language_info": {
   "codemirror_mode": {
    "name": "ipython",
    "version": 3
   },
   "file_extension": ".py",
   "mimetype": "text/x-python",
   "name": "python",
   "nbconvert_exporter": "python",
   "pygments_lexer": "ipython3",
   "version": "3.6.7"
  }
 },
 "nbformat": 4,
 "nbformat_minor": 2
}
