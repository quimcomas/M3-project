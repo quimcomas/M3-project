{
 "cells": [
  {
   "cell_type": "markdown",
   "metadata": {},
   "source": [
    "# Lab 2: Bag of Visual Words Image Classification"
   ]
  },
  {
   "cell_type": "markdown",
   "metadata": {},
   "source": [
    "Team 3: Zuzanna Szafranowska, Claudia Baca, Quim Comas"
   ]
  },
  {
   "cell_type": "code",
   "execution_count": 1,
   "metadata": {},
   "outputs": [],
   "source": [
    "import cv2\n",
    "import numpy as np\n",
    "import itertools\n",
    "#inPython3.x:\n",
    "import pickle as cPickle\n",
    "#in Python2.x:\n",
    "#import cPickle\n",
    "from sklearn.model_selection import cross_val_score\n",
    "import matplotlib.pyplot as plt\n",
    "from sklearn.cluster import MiniBatchKMeans\n",
    "from sklearn.neighbors import KNeighborsClassifier\n",
    "from sklearn import svm\n",
    "from sklearn.preprocessing import StandardScaler,normalize\n",
    "from sklearn.metrics import confusion_matrix,precision_recall_fscore_support\n",
    "\n"
   ]
  },
  {
   "cell_type": "markdown",
   "metadata": {},
   "source": [
    "Let us first read the train and test files"
   ]
  },
  {
   "cell_type": "code",
   "execution_count": 2,
   "metadata": {
    "scrolled": true
   },
   "outputs": [],
   "source": [
    "train_images_filenames = cPickle.load(open('train_images_filenames.dat','rb'))\n",
    "test_images_filenames = cPickle.load(open('test_images_filenames.dat','rb'))\n",
    "train_labels = cPickle.load(open('train_labels.dat','rb'))\n",
    "test_labels = cPickle.load(open('test_labels.dat','rb'))"
   ]
  },
  {
   "cell_type": "markdown",
   "metadata": {},
   "source": [
    "We create a SIFT object detector and descriptor"
   ]
  },
  {
   "cell_type": "code",
   "execution_count": 3,
   "metadata": {},
   "outputs": [],
   "source": [
    "SIFTdetector = cv2.xfeatures2d.SIFT_create(nfeatures=300)\n",
    "SURFdetector = cv2.xfeatures2d.SURF_create(300)\n",
    "ORBdetector = cv2.ORB_create()"
   ]
  },
  {
   "cell_type": "markdown",
   "metadata": {},
   "source": [
    "We choose the type of local feature detector that we want to use. \n",
    "\n",
    "- 1 ==> SIFT\n",
    "- 2 ==> SURF\n",
    "- 3 ==> ORB\n",
    "- 4 ==> Dense SIFT\n",
    "- 5 ==> Dense SURF\n"
   ]
  },
  {
   "cell_type": "code",
   "execution_count": 4,
   "metadata": {},
   "outputs": [],
   "source": [
    "x=4\n",
    "#x = input(\"Enter a number to choose the local feature detector: \")"
   ]
  },
  {
   "cell_type": "markdown",
   "metadata": {},
   "source": [
    "We compute the SIFT descriptors for all the train images and subsequently build a numpy array with all the descriptors stacked together"
   ]
  },
  {
   "cell_type": "code",
   "execution_count": 5,
   "metadata": {},
   "outputs": [],
   "source": [
    "Train_descriptors = []\n",
    "Train_label_per_descriptor = []\n",
    "\n",
    "for filename,labels in zip(train_images_filenames,train_labels):\n",
    "    ima=cv2.imread(filename)\n",
    "    gray=cv2.cvtColor(ima,cv2.COLOR_BGR2GRAY)\n",
    "    if(x==1):\n",
    "        kpt,des=SIFTdetector.detectAndCompute(gray,None)\n",
    "    if(x==2):\n",
    "        kpt,des=SURFdetector.detectAndCompute(gray,None)\n",
    "    if(x==3):\n",
    "        kpt,des=ORBdetector.detectAndCompute(gray,None)\n",
    "    if(x==4):\n",
    "        step_size = 5\n",
    "        kpt = [cv2.KeyPoint(x, y, step_size) for y in range(0, gray.shape[0], step_size) \n",
    "                                            for x in range(0, gray.shape[1], step_size)]\n",
    "        kpt,des=SIFTdetector.compute(gray,kpt)\n",
    "    if(x==5):\n",
    "        step_size = 5\n",
    "        kpt = [cv2.KeyPoint(x, y, step_size) for y in range(0, gray.shape[0], step_size) \n",
    "                                            for x in range(0, gray.shape[1], step_size)]\n",
    "        kpt,des=SURFdetector.compute(gray,kpt)\n",
    "    \n",
    "    Train_descriptors.append(des)\n",
    "    \n",
    "    Train_label_per_descriptor.append(labels)\n",
    "\n",
    "D=np.vstack(Train_descriptors)"
   ]
  },
  {
   "cell_type": "markdown",
   "metadata": {},
   "source": [
    "Dense SIFT has been removed from the opencv-contrib package in version 3. Therefore, we fill in the keypoint array ourselves by making a grid a keypoints at a given density determined by the step_size parameter. Then, we calculate a descriptor at each keypoint by calling SIFTdetector.compute.\n",
    "\n",
    "\n",
    "We now compute a k-means clustering on the descriptor space, where we test 3 different codebook sizes k (64,128,256):"
   ]
  },
  {
   "cell_type": "code",
   "execution_count": 6,
   "metadata": {
    "scrolled": true
   },
   "outputs": [
    {
     "data": {
      "text/plain": [
       "MiniBatchKMeans(batch_size=5120, compute_labels=False, init='k-means++',\n",
       "        init_size=None, max_iter=100, max_no_improvement=10,\n",
       "        n_clusters=256, n_init=3, random_state=42,\n",
       "        reassignment_ratio=0.0001, tol=0.0, verbose=False)"
      ]
     },
     "execution_count": 6,
     "metadata": {},
     "output_type": "execute_result"
    }
   ],
   "source": [
    "k = 256\n",
    "codebook = MiniBatchKMeans(n_clusters=k, verbose=False, batch_size=k * 20,compute_labels=False,reassignment_ratio=10**-4,random_state=42)\n",
    "codebook.fit(D)"
   ]
  },
  {
   "cell_type": "markdown",
   "metadata": {},
   "source": [
    "And, for each train image, we project each keypoint descriptor to its closest visual word. We represent each of the images with the frequency of each visual word."
   ]
  },
  {
   "cell_type": "code",
   "execution_count": 7,
   "metadata": {},
   "outputs": [],
   "source": [
    "visual_words=np.zeros((len(Train_descriptors),k),dtype=np.float32)\n",
    "for i in range(len(Train_descriptors)): \n",
    "    words=codebook.predict(Train_descriptors[i])\n",
    "    visual_words[i,:]=np.bincount(words,minlength=k)"
   ]
  },
  {
   "cell_type": "markdown",
   "metadata": {},
   "source": [
    "Before apply the SVM we create the histogram intersection kernel (it is not available in the sklearn library):"
   ]
  },
  {
   "cell_type": "code",
   "execution_count": 69,
   "metadata": {},
   "outputs": [],
   "source": [
    "def histogram_intersection(M,N):\n",
    "    M_samples, M_features = M.shape\n",
    "    N_samples, N_features = N.shape\n",
    "    \n",
    "    K_int= np.zeros(shape=(M_samples,N_samples),dtype= np.float)\n",
    "    for i in range(M_samples):\n",
    "        for j in range(N_samples):\n",
    "            K_int[i,j]=np.minimum(M[i,:],N[j,:]).sum()\n",
    "    \n",
    "    return K_int"
   ]
  },
  {
   "cell_type": "markdown",
   "metadata": {},
   "source": [
    "In this step we add the SVM classifier to train our data. Before train our visual words, we preprocess the data standardizing the features by removing the mean and scaling to unit variance. In our implementation we can choose between different types of kernels:\n",
    "\n",
    "- Linear Kernel --> 'linear'\n",
    "- Rbf Kernel --> 'rbf'\n",
    "- Polynomial Kernel --> 'poly'\n",
    "- Sigmoid Kernel --> 'sigmoid'\n",
    "- Histogram Intersection Kernel --> 'histogram'"
   ]
  },
  {
   "cell_type": "code",
   "execution_count": 108,
   "metadata": {},
   "outputs": [],
   "source": [
    "#Choose the type of kernel (histogram by default):\n",
    "\n",
    "Kernel= 'histogram'\n",
    "\n",
    "stdSlr= StandardScaler().fit(visual_words)\n",
    "scaler= stdSlr.transform(visual_words)\n",
    "\n",
    "if(Kernel=='linear'):\n",
    "    clf= svm.SVC(kernel='linear',C=1,gamma=0.002).fit(scaler,train_labels)\n",
    "if(Kernel=='rbf'):\n",
    "    clf= svm.SVC(kernel='rbf',C=1,gamma=0.002).fit(scaler,train_labels)\n",
    "if(Kernel=='poly'):\n",
    "    clf= svm.SVC(kernel='poly',C=1,gamma=0.002).fit(scaler,train_labels)\n",
    "if(Kernel=='sigmoid'):\n",
    "    clf= svm.SVC(kernel='sigmoid',C=1,gamma=0.002).fit(scaler,train_labels)\n",
    "if(Kernel=='histogram'): \n",
    "    kernel=histogram_intersection(scaler,scaler)\n",
    "    clf= svm.SVC(kernel='precomputed',C=1).fit(kernel,train_labels)    "
   ]
  },
  {
   "cell_type": "markdown",
   "metadata": {},
   "source": [
    "To see the effect of K value in KNN classifier we perform a 10 fold cross validation with our training set to estimate the optimal K value. Also we represent the evolution of the accuracy for each k value to see the influence of the k value:   "
   ]
  },
  {
   "cell_type": "code",
   "execution_count": 101,
   "metadata": {},
   "outputs": [
    {
     "data": {
      "image/png": "[encoded data removed]",
      "text/plain": [
       "<Figure size 432x288 with 1 Axes>"
      ]
     },
     "metadata": {},
     "output_type": "display_data"
    },
    {
     "name": "stdout",
     "output_type": "stream",
     "text": [
      "The optimal k value is 20\n"
     ]
    }
   ],
   "source": [
    "neighbors = list(filter(lambda x: x % 2 == 0, list(range(1,50))))\n",
    "cv_scores = []\n",
    "\n",
    "for kk in neighbors:\n",
    "    knn = KNeighborsClassifier(n_neighbors=kk,n_jobs=-1,metric='braycurtis')\n",
    "    scores = cross_val_score(knn, visual_words, train_labels, cv=10, scoring='accuracy')\n",
    "    cv_scores.append(scores.mean())\n",
    "\n",
    "optimal_k = neighbors[cv_scores.index(max(cv_scores))]\n",
    "\n",
    "plt.title('Accuracy as a function of K')\n",
    "plt.plot(neighbors, cv_scores)\n",
    "plt.xlabel('Number of Neighbors K')\n",
    "plt.ylabel('Train Accuracy')\n",
    "plt.show()\n",
    "#python2.x\n",
    "#print(\"The optimal k value is %d\" % optimal_k)\n",
    "#python3.x\n",
    "print(\"The optimal k value is %d\" % optimal_k)"
   ]
  },
  {
   "cell_type": "markdown",
   "metadata": {},
   "source": [
    "We build a k-nn classifier and train it with the train descriptors"
   ]
  },
  {
   "cell_type": "code",
   "execution_count": 102,
   "metadata": {},
   "outputs": [
    {
     "data": {
      "text/plain": [
       "KNeighborsClassifier(algorithm='auto', leaf_size=30, metric='braycurtis',\n",
       "           metric_params=None, n_jobs=-1, n_neighbors=20, p=2,\n",
       "           weights='uniform')"
      ]
     },
     "execution_count": 102,
     "metadata": {},
     "output_type": "execute_result"
    }
   ],
   "source": [
    "knn = KNeighborsClassifier(n_neighbors=optimal_k,n_jobs=-1,metric='braycurtis')\n",
    "knn.fit(visual_words, train_labels) "
   ]
  },
  {
   "cell_type": "markdown",
   "metadata": {},
   "source": [
    "We end up computing the test descriptors and compute the accuracy of the model"
   ]
  },
  {
   "cell_type": "code",
   "execution_count": 109,
   "metadata": {},
   "outputs": [],
   "source": [
    "visual_words_test=np.zeros((len(test_images_filenames),k),dtype=np.float32)\n",
    "for i in range(len(test_images_filenames)):\n",
    "    filename=test_images_filenames[i]\n",
    "    ima=cv2.imread(filename)\n",
    "    gray=cv2.cvtColor(ima,cv2.COLOR_BGR2GRAY)\n",
    "    if(x==1):\n",
    "        kpt,des=SIFTdetector.detectAndCompute(gray,None)\n",
    "    if(x==2):\n",
    "        kpt,des=SURFdetector.detectAndCompute(gray,None)\n",
    "    if(x==3):\n",
    "        kpt,des=ORBdetector.detectAndCompute(gray,None)\n",
    "    if(x==4):\n",
    "        kpt = [cv2.KeyPoint(x, y, step_size) for y in range(0, gray.shape[0], step_size) \n",
    "                                            for x in range(0, gray.shape[1], step_size)]        \n",
    "        kpt,des=SIFTdetector.compute(gray,kpt)\n",
    "    if(x==5):\n",
    "        step_size = 5\n",
    "        kpt = [cv2.KeyPoint(x, y, step_size) for y in range(0, gray.shape[0], step_size) \n",
    "                                            for x in range(0, gray.shape[1], step_size)]\n",
    "        kpt,des=SURFdetector.compute(gray,kpt)\n",
    "        \n",
    "    words=codebook.predict(des)\n",
    "    visual_words_test[i,:]=np.bincount(words,minlength=k)"
   ]
  },
  {
   "cell_type": "markdown",
   "metadata": {},
   "source": [
    "In the next step we perform the confusion matrix to evaluate our classifier with respect the 8 image classes:"
   ]
  },
  {
   "cell_type": "code",
   "execution_count": 110,
   "metadata": {},
   "outputs": [
    {
     "data": {
      "image/png": "[encoded data removed]",
      "text/plain": [
       "<Figure size 432x288 with 2 Axes>"
      ]
     },
     "metadata": {},
     "output_type": "display_data"
    }
   ],
   "source": [
    "classes = list(set(test_labels))\n",
    "\n",
    "if(Kernel== 'histogram'):\n",
    "    predict= histogram_intersection(stdSlr.transform(visual_words_test),scaler)\n",
    "    predictions= clf.predict(predict)\n",
    "else:\n",
    "    predictions= clf.predict(stdSlr.transform(visual_words_test))\n",
    "\n",
    "conf_matrix= confusion_matrix(test_labels,predictions)\n",
    "plt.figure()\n",
    "plt.imshow(conf_matrix, interpolation='nearest', cmap=plt.cm.Greens)\n",
    "plt.title('Confusion matrix')\n",
    "plt.colorbar()\n",
    "tick_marks = np.arange(len(classes))\n",
    "plt.xticks(tick_marks, classes, rotation=90)\n",
    "plt.yticks(tick_marks, classes)\n",
    "\n",
    "thresh = conf_matrix.max() / 2.\n",
    "for i, j in itertools.product(range(conf_matrix.shape[0]), range(conf_matrix.shape[1])):\n",
    "    plt.text(j, i, conf_matrix[i, j],horizontalalignment=\"center\",color=\"white\" if conf_matrix[i, j] > thresh else \"black\")\n"
   ]
  },
  {
   "cell_type": "code",
   "execution_count": 111,
   "metadata": {},
   "outputs": [
    {
     "name": "stdout",
     "output_type": "stream",
     "text": [
      "87.80168841497651\n",
      "87.78259117577797\n",
      "87.70633793862825\n"
     ]
    }
   ],
   "source": [
    "#Provisional: I'm trying to perform more evaluation metrics\n",
    "\n",
    "precision, recall, fscore, support= precision_recall_fscore_support(test_labels, predictions,average='macro')\n",
    "\n",
    "print (precision*100)\n",
    "print (recall*100)\n",
    "print (fscore*100)"
   ]
  },
  {
   "cell_type": "markdown",
   "metadata": {},
   "source": [
    "Finally, we compute the accuracy for SVM and KNN:"
   ]
  },
  {
   "cell_type": "code",
   "execution_count": 112,
   "metadata": {},
   "outputs": [
    {
     "name": "stdout",
     "output_type": "stream",
     "text": [
      "87.6084262701363\n"
     ]
    }
   ],
   "source": [
    "if Kernel == 'histogram':\n",
    "    accuracy_svm = 100*clf.score(predict, test_labels)\n",
    "else:\n",
    "    accuracy_svm = 100*clf.score(stdSlr.transform(visual_words_test), test_labels)\n",
    "print(accuracy_svm)"
   ]
  },
  {
   "cell_type": "code",
   "execution_count": 107,
   "metadata": {
    "scrolled": true
   },
   "outputs": [
    {
     "name": "stdout",
     "output_type": "stream",
     "text": [
      "81.04089219330855\n"
     ]
    }
   ],
   "source": [
    "accuracy_knn = 100*knn.score(visual_words_test, test_labels)\n",
    "print(accuracy_knn)"
   ]
  },
  {
   "cell_type": "markdown",
   "metadata": {},
   "source": [
    "Finally, in the next tables we summarise all the results that we have obtained changing the different parameters and using different types of feature descriptors:\n",
    "\n",
    "SIFT:\n",
    "\n",
    "| Distance | Kbatch=128,Initial parameters | Kbatch=128,Optimal K |K=64,Initial parameters |\n",
    "| --- | --- | --- | --- |\n",
    "| Euclidean |  53.5315 | 55.8859 | 54.3990 |\n",
    "| Chebyshev |  43.2465 | 44.6096 | 46.3444 |\n",
    "| Manhattan |  50.1858 | 52.4163 | 53.4076 |\n",
    "|  Hamming  |  35.1920 | 37.5464 | 38.16604|\n",
    "| Canberra  |  50.1858 | 51.6728 | 49.0706 |\n",
    "|Braycurtis |  57.1250 | 57.6208 | 54.7707 |\n",
    "\n",
    "| Distance | Kbatch=64,Optimal K| Kbatch=256,Initial parameters | KBatch=256,Optimal K| \n",
    "| --- | --- | --- | --- |\n",
    "| Euclidean | 54.0272 | 49.3184 | 49.5662 | \n",
    "| Chebyshev | 47.4597 | 42.1313 | 42.9987 |\n",
    "| Manhattan | 53.7794 | 35.3159 | 35.4399 |\n",
    "|  Hamming  | 42.5030 | 21.6852 | 23.1722 |\n",
    "| Canberra  | 49.3184 | 47.5836 | 48.5749 | \n",
    "|Braycurtis | 55.0185 | 60.5947 | 61.2143 |\n",
    "\n",
    "SURF:\n",
    "\n",
    "| Distance | Kbatch=128,Initial parameters | Kbatch=128,Optimal K |K=64,Initial parameters |\n",
    "| --- | --- | --- | --- |\n",
    "| Euclidean |  54.7707 | 57.0012 | 58.8599 |\n",
    "| Chebyshev |  46.8401 | 49.5662 | 52.1685 |\n",
    "| Manhattan |  53.5315 | 53.5315 | 57.8686 |\n",
    "|  Hamming  |  35.9355 | 37.1747 | 38.7856 |\n",
    "| Canberra  |  55.7620 | 56.2577 | 56.7534 |\n",
    "|Braycurtis |  62.5774 | 63.8166 | 61.8339 |\n",
    "\n",
    "| Distance | Kbatch=64,Optimal K| Kbatch=256,Initial parameters | KBatch=256,Optimal K| \n",
    "| --- | --- | --- | --- |\n",
    "| Euclidean | 58.6121 | 50.5576 | 50.5576 | \n",
    "| Chebyshev | 52.6641 | 47.4597 | 46.2205 |\n",
    "| Manhattan | 59.1078 | 42.9987 | 43.2465 |\n",
    "|  Hamming  | 40.6443 | 29.8636 | 31.1028 |\n",
    "| Canberra  | 56.5055 | 52.4163 | 52.4163 |\n",
    "|Braycurtis | 61.5861 | 63.5687 | 62.3296 |\n",
    "\n",
    "ORB:\n",
    "\n",
    "| Distance | Kbatch=128,Initial parameters | Kbatch=128,Optimal K |K=64,Initial parameters |\n",
    "| --- | --- | --- | --- |\n",
    "| Euclidean |  32.8376 | 36.4312 | 31.9702 |\n",
    "| Chebyshev |  25.7744 | 27.7571 | 28.3767 |\n",
    "| Manhattan |  33.2094 | 38.5377 | 32.4659 |\n",
    "|  Hamming  |  26.0223 | 29.1201 | 24.4114 |\n",
    "| Canberra  |  27.8810 | 30.6071 | 27.8810 |\n",
    "|Braycurtis |  32.4659 | 32.4659 | 30.6071 |\n",
    "\n",
    "| Distance | Kbatch=64,Optimal K| Kbatch=256,Initial parameters | KBatch=256,Optimal K| \n",
    "| --- | --- | --- | --- |\n",
    "| Euclidean | 35.1920 | 34.6964 | 36.0594 | \n",
    "| Chebyshev | 26.2701 | 24.0396 | 23.7918 |\n",
    "| Manhattan | 36.6790 | 27.8810 | 29.1201 |\n",
    "|  Hamming  | 28.2527 | 20.8178 | 19.3308 |\n",
    "| Canberra  | 30.8550 | 31.2267 | 33.3333 |\n",
    "|Braycurtis | 31.2267 | 31.9702 | 31.2267 |\n",
    "\n",
    "Dense SURF:\n",
    "\n",
    "| Distance | Kbatch=128,Initial parameters | Kbatch=128,Optimal K |K=64,Initial parameters |\n",
    "| --- | --- | --- | --- |\n",
    "| Euclidean |  62.0817 | 63.9405 |61.8339|\n",
    "| Chebyshev |  54.0272 | 54.1511 |57.8686|\n",
    "| Manhattan |  64.9318 | 64.9318 |62.4535|\n",
    "|  Hamming  |  42.0074 | 49.8141 |39.9008|\n",
    "| Canberra  |  63.4448 | 63.9405 |63.8166|\n",
    "|Braycurtis |  64.9318 | 65.1796 |62.8252|\n",
    "\n",
    "| Distance | Kbatch=64,Optimal K| Kbatch=256,Initial parameters | KBatch=256,Optimal K| \n",
    "| --- | --- | --- | --- |\n",
    "| Euclidean | 61.8339 | 64.6840 | 64.1883 | \n",
    "| Chebyshev | 57.8686 | 55.8859 | 52.5402 |\n",
    "| Manhattan | 63.9405 | 67.4101 | 66.2949 |\n",
    "|  Hamming  | 44.1140 | 50.8054 | 53.5315 |\n",
    "| Canberra  | 64.1883 | 62.2057 | 63.4448 |\n",
    "|Braycurtis | 63.5687 | 67.1623 | 66.4188 |\n",
    "\n",
    "Dense SIFT:\n",
    "\n",
    "| Distance | Kbatch=128,Initial parameters | Kbatch=128,Optimal K |K=64,Initial parameters |\n",
    "| --- | --- | --- | --- |\n",
    "| Euclidean |  70.1363 | 72.7385 | 69.7645 |\n",
    "| Chebyshev |  58.7360 | 58.8599 | 58.9838 | \n",
    "| Manhattan |  76.7038 | 78.3147 | 73.3581 | \n",
    "|  Hamming  |  36.3073 | 38.6617 | 40.5204 |\n",
    "| Canberra  |  74.2255 | 75.4646 | 71.1276 |\n",
    "|Braycurtis |  76.7038 | 78.3147 | 73.6059 |\n",
    "\n",
    "| Distance | Kbatch=64,Optimal K| Kbatch=256,Initial parameters | KBatch=256,Optimal K| \n",
    "| --- | --- | --- | --- |\n",
    "| Euclidean | 73.1102  | 71.6232 | 71.3754 |\n",
    "| Chebyshev | 62.7013  | 54.8946 | 53.5315 |\n",
    "| Manhattan | 75.8364  | 79.9256 | 81.1648 |\n",
    "|  Hamming  | 37.7942  | 36.9268 | 37.0508 |\n",
    "| Canberra  | 74.1016  | 76.7038 | 78.0669 |\n",
    "|Braycurtis | 75.8364  | 79.5539 | 81.0408 |\n",
    "\n",
    "\n",
    "\n",
    "\n",
    "\n",
    "\n",
    "\n",
    "\n",
    "\n",
    "\n",
    "\n",
    "\n"
   ]
  },
  {
   "cell_type": "markdown",
   "metadata": {},
   "source": [
    "As we can see in our results, we have achieved to improve the initial acurracy of 53.53 almost 30% more. The best result is using the dense SIFT, a codebook size of 256 and the Manhattan (or Braycurtis 81.0408 %) distance where we obtain a 81.1648 % of accuracy.\n",
    "\n",
    "During this first lab we can conclude that:\n",
    "\n",
    "- Respect to the feature descriptors, we see a slightly improvement using SURF respect SIFT. Despite this, in the dense version we have the better results, specially, in dense SIFT. The ORB descriptor tends to get worse the results respect SIFT and SURF.\n",
    "\n",
    "- Respect to the codebook size, we can see that using a size of 256 we achieved to slightly improve the accuracy.  However, the computational cost increase a lot at same time that we increase the size.\n",
    "\n",
    "- Respect to the knn distance, from the 6 distances that we have tested, Braycurtis and Manhanttan distances provided us the best results. In the other hand, we have the Chebyshev and Hamming distance where we obtained the lowest accuracy.\n",
    "\n",
    "- Respect to the number of neighbors, we can see that choosing the optimal k value the accuracy can increase until 5% more than using the initial parameter.\n",
    "\n",
    "\n",
    "\n",
    "\n",
    "\n",
    "\n",
    "\n"
   ]
  },
  {
   "cell_type": "code",
   "execution_count": null,
   "metadata": {},
   "outputs": [],
   "source": []
  }
 ],
 "metadata": {
  "kernelspec": {
   "display_name": "Python 3",
   "language": "python",
   "name": "python3"
  },
  "language_info": {
   "codemirror_mode": {
    "name": "ipython",
    "version": 3
   },
   "file_extension": ".py",
   "mimetype": "text/x-python",
   "name": "python",
   "nbconvert_exporter": "python",
   "pygments_lexer": "ipython3",
   "version": "3.6.5"
  }
 },
 "nbformat": 4,
 "nbformat_minor": 2
}
