{
 "cells": [
  {
   "cell_type": "markdown",
   "metadata": {},
   "source": [
    "Team 3: Zuzanna Szafranowska, Claudia Baca, Quim Comas"
   ]
  },
  {
   "cell_type": "code",
   "execution_count": 1,
   "metadata": {},
   "outputs": [],
   "source": [
    "import cv2\n",
    "import numpy as np\n",
    "#inPython3.x:\n",
    "import pickle as cPickle\n",
    "#in Python2.x:\n",
    "#import cPickle\n",
    "from sklearn.model_selection import cross_val_score\n",
    "import matplotlib.pyplot as plt\n",
    "from sklearn.cluster import MiniBatchKMeans\n",
    "from sklearn.neighbors import KNeighborsClassifier"
   ]
  },
  {
   "cell_type": "markdown",
   "metadata": {},
   "source": [
    "Let us first read the train and test files"
   ]
  },
  {
   "cell_type": "code",
   "execution_count": 2,
   "metadata": {
    "scrolled": true
   },
   "outputs": [],
   "source": [
    "train_images_filenames = cPickle.load(open('train_images_filenames.dat','rb'))\n",
    "test_images_filenames = cPickle.load(open('test_images_filenames.dat','rb'))\n",
    "train_labels = cPickle.load(open('train_labels.dat','rb'))\n",
    "test_labels = cPickle.load(open('test_labels.dat','rb'))"
   ]
  },
  {
   "cell_type": "markdown",
   "metadata": {},
   "source": [
    "We create a SIFT object detector and descriptor"
   ]
  },
  {
   "cell_type": "code",
   "execution_count": 3,
   "metadata": {},
   "outputs": [],
   "source": [
    "SIFTdetector = cv2.xfeatures2d.SIFT_create(nfeatures=300)\n",
    "SURFdetector = cv2.xfeatures2d.SURF_create(300)\n",
    "ORBdetector = cv2.ORB_create()"
   ]
  },
  {
   "cell_type": "markdown",
   "metadata": {},
   "source": [
    "We choose the type of local feature detector that we want to use. \n",
    "\n",
    "- 1 ==> SIFT\n",
    "- 2 ==> SURF\n",
    "- 3 ==> ORB\n",
    "- 4 ==> Dense SIFT\n"
   ]
  },
  {
   "cell_type": "code",
   "execution_count": 153,
   "metadata": {},
   "outputs": [],
   "source": [
    "x=3\n",
    "#x = input(\"Enter a number to choose the local feature detector: \")"
   ]
  },
  {
   "cell_type": "markdown",
   "metadata": {},
   "source": [
    "We compute the SIFT descriptors for all the train images and subsequently build a numpy array with all the descriptors stacked together"
   ]
  },
  {
   "cell_type": "code",
   "execution_count": 154,
   "metadata": {},
   "outputs": [],
   "source": [
    "Train_descriptors = []\n",
    "Train_label_per_descriptor = []\n",
    "\n",
    "for filename,labels in zip(train_images_filenames,train_labels):\n",
    "    ima=cv2.imread(filename)\n",
    "    gray=cv2.cvtColor(ima,cv2.COLOR_BGR2GRAY)\n",
    "    if(x==1):\n",
    "        kpt,des=SIFTdetector.detectAndCompute(gray,None)\n",
    "    if(x==2):\n",
    "        kpt,des=SURFdetector.detectAndCompute(gray,None)\n",
    "    if(x==3):\n",
    "        kpt,des=ORBdetector.detectAndCompute(gray,None)\n",
    "    if(x==4):\n",
    "        step_size = 5\n",
    "        kpt = [cv2.KeyPoint(x, y, step_size) for y in range(0, gray.shape[0], step_size) \n",
    "                                            for x in range(0, gray.shape[1], step_size)]\n",
    "        kpt,des=SIFTdetector.compute(gray,kpt)\n",
    "    if(x==5):\n",
    "        step_size = 5\n",
    "        kpt = [cv2.KeyPoint(x, y, step_size) for y in range(0, gray.shape[0], step_size) \n",
    "                                            for x in range(0, gray.shape[1], step_size)]\n",
    "        kpt,des=SURFdetector.compute(gray,kpt)\n",
    "        \n",
    "    Train_descriptors.append(des)\n",
    "    Train_label_per_descriptor.append(labels)\n",
    "\n",
    "D=np.vstack(Train_descriptors)"
   ]
  },
  {
   "cell_type": "markdown",
   "metadata": {},
   "source": [
    "Dense SIFT has been removed from the opencv-contrib package in version 3. Therefore, we fill in the keypoint array ourselves by making a grid a keypoints at a given density determined by the step_size parameter. Then, we calculate a descriptor at each keypoint by calling SIFTdetector.compute.\n",
    "\n",
    "\n",
    "We now compute a k-means clustering on the descriptor space"
   ]
  },
  {
   "cell_type": "code",
   "execution_count": 200,
   "metadata": {
    "scrolled": true
   },
   "outputs": [
    {
     "data": {
      "text/plain": [
       "MiniBatchKMeans(batch_size=1280, compute_labels=False, init='k-means++',\n",
       "        init_size=None, max_iter=100, max_no_improvement=10, n_clusters=64,\n",
       "        n_init=3, random_state=42, reassignment_ratio=0.0001, tol=0.0,\n",
       "        verbose=False)"
      ]
     },
     "execution_count": 200,
     "metadata": {},
     "output_type": "execute_result"
    }
   ],
   "source": [
    "k = 64\n",
    "codebook = MiniBatchKMeans(n_clusters=k, verbose=False, batch_size=k * 20,compute_labels=False,reassignment_ratio=10**-4,random_state=42)\n",
    "codebook.fit(D)"
   ]
  },
  {
   "cell_type": "markdown",
   "metadata": {},
   "source": [
    "And, for each train image, we project each keypoint descriptor to its closest visual word. We represent each of the images with the frequency of each visual word."
   ]
  },
  {
   "cell_type": "code",
   "execution_count": 201,
   "metadata": {},
   "outputs": [],
   "source": [
    "visual_words=np.zeros((len(Train_descriptors),k),dtype=np.float32)\n",
    "for i in range(len(Train_descriptors)): \n",
    "    words=codebook.predict(Train_descriptors[i])\n",
    "    visual_words[i,:]=np.bincount(words,minlength=k)"
   ]
  },
  {
   "cell_type": "markdown",
   "metadata": {},
   "source": [
    "To see the effect of K value in KNN classifier we perform a cross validation with our training set to estimate the optimal K value. Also we represent the evolution of the accuracy for each k value to see the influence of the k value:   "
   ]
  },
  {
   "cell_type": "code",
   "execution_count": 240,
   "metadata": {},
   "outputs": [
    {
     "data": {
      "image/png": "[encoded data removed]",
      "text/plain": [
       "<Figure size 432x288 with 1 Axes>"
      ]
     },
     "metadata": {
      "needs_background": "light"
     },
     "output_type": "display_data"
    },
    {
     "name": "stdout",
     "output_type": "stream",
     "text": [
      "The optimal k value is 34\n"
     ]
    }
   ],
   "source": [
    "neighbors = list(filter(lambda x: x % 2 == 0, list(range(1,50))))\n",
    "cv_scores = []\n",
    "\n",
    "for kk in neighbors:\n",
    "    knn = KNeighborsClassifier(n_neighbors=kk,n_jobs=-1,metric='braycurtis')\n",
    "    scores = cross_val_score(knn, visual_words, train_labels, cv=10, scoring='accuracy')\n",
    "    cv_scores.append(scores.mean())\n",
    "\n",
    "optimal_k = neighbors[cv_scores.index(max(cv_scores))]\n",
    "\n",
    "plt.title('KNN classifier with braycurtis distance')\n",
    "plt.plot(neighbors, cv_scores)\n",
    "plt.xlabel('Number of Neighbors K')\n",
    "plt.ylabel('Train Accuracy')\n",
    "plt.show()\n",
    "#python2.x\n",
    "print(\"The optimal k value is %d\" % optimal_k)\n",
    "#python3.x\n",
    "# print(\"The optimal k value is %d\" % optimal_k)"
   ]
  },
  {
   "cell_type": "markdown",
   "metadata": {},
   "source": [
    "We build a k-nn classifier and train it with the train descriptors"
   ]
  },
  {
   "cell_type": "code",
   "execution_count": 241,
   "metadata": {},
   "outputs": [
    {
     "data": {
      "text/plain": [
       "KNeighborsClassifier(algorithm='auto', leaf_size=30, metric='braycurtis',\n",
       "           metric_params=None, n_jobs=-1, n_neighbors=34, p=2,\n",
       "           weights='uniform')"
      ]
     },
     "execution_count": 241,
     "metadata": {},
     "output_type": "execute_result"
    }
   ],
   "source": [
    "knn = KNeighborsClassifier(n_neighbors=optimal_k,n_jobs=-1,metric='braycurtis')\n",
    "knn.fit(visual_words, train_labels) "
   ]
  },
  {
   "cell_type": "markdown",
   "metadata": {},
   "source": [
    "We end up computing the test descriptors and compute the accuracy of the model"
   ]
  },
  {
   "cell_type": "code",
   "execution_count": 242,
   "metadata": {},
   "outputs": [],
   "source": [
    "visual_words_test=np.zeros((len(test_images_filenames),k),dtype=np.float32)\n",
    "for i in range(len(test_images_filenames)):\n",
    "    filename=test_images_filenames[i]\n",
    "    ima=cv2.imread(filename)\n",
    "    gray=cv2.cvtColor(ima,cv2.COLOR_BGR2GRAY)\n",
    "    if(x==1):\n",
    "        kpt,des=SIFTdetector.detectAndCompute(gray,None)\n",
    "    if(x==2):\n",
    "        kpt,des=SURFdetector.detectAndCompute(gray,None)\n",
    "    if(x==3):\n",
    "        kpt,des=ORBdetector.detectAndCompute(gray,None)\n",
    "    if(x==4):\n",
    "        kpt = [cv2.KeyPoint(x, y, step_size) for y in range(0, gray.shape[0], step_size) \n",
    "                                            for x in range(0, gray.shape[1], step_size)]        \n",
    "        kpt,des=SIFTdetector.compute(gray,kpt)\n",
    "    if(x==5):\n",
    "        step_size = 5\n",
    "        kpt = [cv2.KeyPoint(x, y, step_size) for y in range(0, gray.shape[0], step_size) \n",
    "                                            for x in range(0, gray.shape[1], step_size)]\n",
    "        kpt,des=SURFdetector.compute(gray,kpt)\n",
    "        \n",
    "    words=codebook.predict(des)\n",
    "    visual_words_test[i,:]=np.bincount(words,minlength=k)"
   ]
  },
  {
   "cell_type": "code",
   "execution_count": 243,
   "metadata": {
    "scrolled": true
   },
   "outputs": [
    {
     "name": "stdout",
     "output_type": "stream",
     "text": [
      "31.226765799256505\n"
     ]
    }
   ],
   "source": [
    "accuracy = 100*knn.score(visual_words_test, test_labels)\n",
    "print(accuracy)"
   ]
  },
  {
   "cell_type": "markdown",
   "metadata": {},
   "source": [
    "Accuracy's results are:\n",
    "\n",
    "SIFT:\n",
    "\n",
    "| Distance | Kbatch=128,Initial parameters | Kbatch=128,Optimal K |K=64,Initial parameters |\n",
    "| --- | --- | --- | --- |\n",
    "| Euclidean |  53.5315 | 55.8859 | 54.3990 |\n",
    "| Chebyshev |  43.2465 | 44.6096 | 46.3444 |\n",
    "| Manhattan |  50.1858 | 52.4163 | 53.4076 |\n",
    "|  Hamming  |  35.1920 | 37.5464 | 38.16604|\n",
    "| Canberra  |  50.1858 | 51.6728 | 49.0706 |\n",
    "|Braycurtis |  57.1250 | 57.6208 | 54.7707 |\n",
    "\n",
    "| Distance | Kbatch=64,Optimal K| Kbatch=256,Initial parameters | KBatch=256,Optimal K| \n",
    "| --- | --- | --- | --- |\n",
    "| Euclidean | 54.0272 | 49.3184 | 49.5662 | \n",
    "| Chebyshev | 47.4597 | 42.1313 | 42.9987 |\n",
    "| Manhattan | 53.7794 | 35.3159 | 35.4399 |\n",
    "|  Hamming  | 42.5030 | 21.6852 | 23.1722 |\n",
    "| Canberra  | 49.3184 | 47.5836 | 48.5749 | \n",
    "|Braycurtis | 55.0185 | 60.5947 | 61.2143 |\n",
    "\n",
    "SURF:\n",
    "\n",
    "| Distance | Kbatch=128,Initial parameters | Kbatch=128,Optimal K |K=64,Initial parameters |\n",
    "| --- | --- | --- | --- |\n",
    "| Euclidean |  54.7707 | 57.0012 | 58.8599 |\n",
    "| Chebyshev |  46.8401 | 49.5662 | 52.1685 |\n",
    "| Manhattan |  53.5315 | 53.5315 | 57.8686 |\n",
    "|  Hamming  |  35.9355 | 37.1747 | 38.7856 |\n",
    "| Canberra  |  55.7620 | 56.2577 | 56.7534 |\n",
    "|Braycurtis |  62.5774 | 63.8166 | 61.8339 |\n",
    "\n",
    "| Distance | Kbatch=64,Optimal K| Kbatch=256,Initial parameters | KBatch=256,Optimal K| \n",
    "| --- | --- | --- | --- |\n",
    "| Euclidean | 58.6121 | 50.5576 | 50.5576 | \n",
    "| Chebyshev | 52.6641 | 47.4597 | 46.2205 |\n",
    "| Manhattan | 59.1078 | 42.9987 | 43.2465 |\n",
    "|  Hamming  | 40.6443 | 29.8636 | 31.1028 |\n",
    "| Canberra  | 56.5055 | 52.4163 | 52.4163 |\n",
    "|Braycurtis | 61.5861 | 63.5687 | 62.3296 |\n",
    "\n",
    "ORB:\n",
    "\n",
    "| Distance | Kbatch=128,Initial parameters | Kbatch=128,Optimal K |K=64,Initial parameters |\n",
    "| --- | --- | --- | --- |\n",
    "| Euclidean |  32.8376 | 36.4312 | 31.9702 |\n",
    "| Chebyshev |  25.7744 | 27.7571 | 28.3767 |\n",
    "| Manhattan |  33.2094 | 38.5377 | 32.4659 |\n",
    "|  Hamming  |  26.0223 | 29.1201 | 24.4114 |\n",
    "| Canberra  |  27.8810 | 30.6071 | 27.8810 |\n",
    "|Braycurtis |  32.4659 | 32.4659 | 30.6071 |\n",
    "\n",
    "| Distance | Kbatch=64,Optimal K| Kbatch=256,Initial parameters | KBatch=256,Optimal K| \n",
    "| --- | --- | --- | --- |\n",
    "| Euclidean | 35.1920 | 34.6964 | 36.0594 | \n",
    "| Chebyshev | 26.2701 | 24.0396 | 23.7918 |\n",
    "| Manhattan | 36.6790 | 27.8810 | 29.1201 |\n",
    "|  Hamming  | 28.2527 | 20.8178 | 19.3308 |\n",
    "| Canberra  | 30.8550 | 31.2267 | 33.3333 |\n",
    "|Braycurtis | 31.2267 | 31.9702 | 31.2267 |\n",
    "\n",
    "Dense SURF:\n",
    "\n",
    "| Distance | Kbatch=128,Initial parameters | Kbatch=128,Optimal K |K=64,Initial parameters |\n",
    "| --- | --- | --- | --- |\n",
    "| Euclidean |  62.0817 | 63.9405 |61.8339|\n",
    "| Chebyshev |  54.0272 | 54.1511 |57.8686|\n",
    "| Manhattan |  64.9318 | 64.9318 |62.4535|\n",
    "|  Hamming  |  42.0074 | 49.8141 |39.9008|\n",
    "| Canberra  |  63.4448 | 63.9405 |63.8166|\n",
    "|Braycurtis |  64.9318 | 65.1796 |62.8252|\n",
    "\n",
    "| Distance | Kbatch=64,Optimal K| Kbatch=256,Initial parameters | KBatch=256,Optimal K| \n",
    "| --- | --- | --- | --- |\n",
    "| Euclidean | 61.8339 | 64.6840 | 64.1883 | \n",
    "| Chebyshev | 57.8686 | 55.8859 | 52.5402 |\n",
    "| Manhattan | 63.9405 | 67.4101 | 66.2949 |\n",
    "|  Hamming  | 44.1140 | 50.8054 | 53.5315 |\n",
    "| Canberra  | 64.1883 | 62.2057 | 63.4448 |\n",
    "|Braycurtis | 63.5687 | 67.1623 | 66.4188 |\n",
    "\n",
    "\n",
    "\n",
    "Dense SIFT:\n",
    "\n",
    "| Distance | Kbatch=128,Initial parameters | Kbatch=128,Optimal K |K=64,Initial parameters |\n",
    "| --- | --- | --- | --- |\n",
    "| Euclidean |  70.1363 | 72.7385 | |\n",
    "| Chebyshev |  58.7360 | 58.8599 | | \n",
    "| Manhattan |  76.7038 | 78.3147 | | \n",
    "|  Hamming  |  36.3073 | 38.6617 | |\n",
    "| Canberra  |  74.2255 | 75.4646 | |\n",
    "|Braycurtis |  76.7038 | 78.3147 | |\n",
    "\n",
    "| Distance | Kbatch=64,Optimal K| Kbatch=256,Initial parameters | KBatch=256,Optimal K| \n",
    "| --- | --- | --- | --- |\n",
    "| Euclidean |   |  |  |\n",
    "| Chebyshev |   |  |  |\n",
    "| Manhattan |   |  |  |\n",
    "|  Hamming  |   |  |  |\n",
    "| Canberra  |   |  |  |\n",
    "|Braycurtis |   |  |  |\n",
    "\n",
    "\n",
    "\n",
    "\n",
    "\n",
    "\n",
    "\n",
    "\n",
    "\n",
    "\n",
    "\n",
    "\n"
   ]
  },
  {
   "cell_type": "code",
   "execution_count": null,
   "metadata": {},
   "outputs": [],
   "source": []
  },
  {
   "cell_type": "code",
   "execution_count": null,
   "metadata": {},
   "outputs": [],
   "source": []
  }
 ],
 "metadata": {
  "kernelspec": {
   "display_name": "Python 3",
   "language": "python",
   "name": "python3"
  },
  "language_info": {
   "codemirror_mode": {
    "name": "ipython",
    "version": 3
   },
   "file_extension": ".py",
   "mimetype": "text/x-python",
   "name": "python",
   "nbconvert_exporter": "python",
   "pygments_lexer": "ipython3",
   "version": "3.6.7"
  }
 },
 "nbformat": 4,
 "nbformat_minor": 2
}
