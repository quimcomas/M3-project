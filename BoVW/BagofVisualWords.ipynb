{
 "cells": [
  {
   "cell_type": "markdown",
   "metadata": {
    "scrolled": true
   },
   "source": [
    "## LAB 1: Bag of Visual Words Image Classification"
   ]
  },
  {
   "cell_type": "markdown",
   "metadata": {},
   "source": [
    "Team 3: Zuzanna Szafranowska, Claudia Baca, Quim Comas"
   ]
  },
  {
   "cell_type": "code",
   "execution_count": 1,
   "metadata": {},
   "outputs": [],
   "source": [
    "import cv2\n",
    "import numpy as np\n",
    "#inPython3.x:\n",
    "import pickle as cPickle\n",
    "#in Python2.x:\n",
    "# import cPickle\n",
    "from sklearn.model_selection import cross_val_score\n",
    "import matplotlib.pyplot as plt\n",
    "from sklearn.cluster import MiniBatchKMeans\n",
    "from sklearn.neighbors import KNeighborsClassifier"
   ]
  },
  {
   "cell_type": "markdown",
   "metadata": {},
   "source": [
    "Let us first read the train and test files"
   ]
  },
  {
   "cell_type": "code",
   "execution_count": 2,
   "metadata": {
    "scrolled": true
   },
   "outputs": [],
   "source": [
    "train_images_filenames = cPickle.load(open('train_images_filenames.dat','rb'))\n",
    "test_images_filenames = cPickle.load(open('test_images_filenames.dat','rb'))\n",
    "train_labels = cPickle.load(open('train_labels.dat','rb'))\n",
    "test_labels = cPickle.load(open('test_labels.dat','rb'))"
   ]
  },
  {
   "cell_type": "markdown",
   "metadata": {},
   "source": [
    "We create a SIFT object detector and descriptor"
   ]
  },
  {
   "cell_type": "code",
   "execution_count": 3,
   "metadata": {},
   "outputs": [],
   "source": [
    "SIFTdetector = cv2.xfeatures2d.SIFT_create(nfeatures=300)\n",
    "SURFdetector = cv2.xfeatures2d.SURF_create(300)\n",
    "ORBdetector = cv2.ORB_create(300)"
   ]
  },
  {
   "cell_type": "markdown",
   "metadata": {},
   "source": [
    "We choose the type of local feature detector that we want to use. \n",
    "\n",
    "- 1 ==> SIFT\n",
    "- 2 ==> SURF\n",
    "- 3 ==> ORB\n",
    "- 4 ==> Dense SIFT\n"
   ]
  },
  {
   "cell_type": "code",
   "execution_count": 4,
   "metadata": {},
   "outputs": [],
   "source": [
    "# x=4\n",
    "x = input(\"Enter a number to choose the local feature detector: \")"
   ]
  },
  {
   "cell_type": "markdown",
   "metadata": {},
   "source": [
    "We compute the SIFT descriptors for all the train images and subsequently build a numpy array with all the descriptors stacked together"
   ]
  },
  {
   "cell_type": "code",
   "execution_count": 5,
   "metadata": {},
   "outputs": [],
   "source": [
    "Train_descriptors = []\n",
    "Train_label_per_descriptor = []\n",
    "\n",
    "for filename,labels in zip(train_images_filenames,train_labels):\n",
    "    ima=cv2.imread(filename)\n",
    "    gray=cv2.cvtColor(ima,cv2.COLOR_BGR2GRAY)\n",
    "    if(x==1):\n",
    "        kpt,des=SIFTdetector.detectAndCompute(gray,None)\n",
    "    if(x==2):\n",
    "        kpt,des=SURFdetector.detectAndCompute(gray,None)\n",
    "    if(x==3):\n",
    "        kpt,des=ORBdetector.detectAndCompute(gray,None)\n",
    "    if(x==4):\n",
    "        step_size = 5\n",
    "        kpt = [cv2.KeyPoint(x, y, step_size) for y in range(0, gray.shape[0], step_size) \n",
    "                                            for x in range(0, gray.shape[1], step_size)]\n",
    "        kpt,des=SIFTdetector.compute(gray,kpt)\n",
    "    Train_descriptors.append(des)\n",
    "    Train_label_per_descriptor.append(labels)\n",
    "\n",
    "D=np.vstack(Train_descriptors)"
   ]
  },
  {
   "cell_type": "markdown",
   "metadata": {},
   "source": [
    "Dense SIFT has been removed from the opencv-contrib package in version 3. Therefore, we fill in the keypoint array ourselves by making a grid a keypoints at a given density determined by the step_size parameter. Then, we calculate a descriptor at each keypoint by calling SIFTdetector.compute.\n",
    "\n",
    "\n",
    "We now compute a k-means clustering on the descriptor space"
   ]
  },
  {
   "cell_type": "code",
   "execution_count": 6,
   "metadata": {
    "scrolled": true
   },
   "outputs": [
    {
     "data": {
      "text/plain": [
       "MiniBatchKMeans(batch_size=2560, compute_labels=False, init='k-means++',\n",
       "        init_size=None, max_iter=100, max_no_improvement=10,\n",
       "        n_clusters=128, n_init=3, random_state=42,\n",
       "        reassignment_ratio=0.0001, tol=0.0, verbose=False)"
      ]
     },
     "execution_count": 6,
     "metadata": {},
     "output_type": "execute_result"
    }
   ],
   "source": [
    "k = 128\n",
    "codebook = MiniBatchKMeans(n_clusters=k, verbose=False, batch_size=k * 20,compute_labels=False,reassignment_ratio=10**-4,random_state=42)\n",
    "codebook.fit(D)"
   ]
  },
  {
   "cell_type": "markdown",
   "metadata": {},
   "source": [
    "And, for each train image, we project each keypoint descriptor to its closest visual word. We represent each of the images with the frequency of each visual word."
   ]
  },
  {
   "cell_type": "code",
   "execution_count": 7,
   "metadata": {},
   "outputs": [],
   "source": [
    "visual_words=np.zeros((len(Train_descriptors),k),dtype=np.float32)\n",
    "for i in range(len(Train_descriptors)): \n",
    "    words=codebook.predict(Train_descriptors[i])\n",
    "    visual_words[i,:]=np.bincount(words,minlength=k)"
   ]
  },
  {
   "cell_type": "markdown",
   "metadata": {},
   "source": [
    "To see the effect of K value in KNN classifier we perform a cross validation with our training set to estimate the optimal K value. Also we represent the evolution of the accuracy for each k value to see the influence of the k value:   "
   ]
  },
  {
   "cell_type": "code",
   "execution_count": 8,
   "metadata": {},
   "outputs": [
    {
     "data": {
      "image/png": "[encoded data removed]",
      "text/plain": [
       "<Figure size 432x288 with 1 Axes>"
      ]
     },
     "metadata": {
      "needs_background": "light"
     },
     "output_type": "display_data"
    },
    {
     "name": "stdout",
     "output_type": "stream",
     "text": [
      "The optimal k value is 14\n"
     ]
    }
   ],
   "source": [
    "neighbors = list(filter(lambda x: x % 2 == 0, list(range(1,50))))\n",
    "cv_scores = []\n",
    "\n",
    "for kk in neighbors:\n",
    "    knn = KNeighborsClassifier(n_neighbors=kk,n_jobs=-1,metric='braycurtis')\n",
    "    scores = cross_val_score(knn, visual_words, train_labels, cv=10, scoring='accuracy')\n",
    "    cv_scores.append(scores.mean())\n",
    "\n",
    "optimal_k = neighbors[cv_scores.index(max(cv_scores))]\n",
    "\n",
    "plt.title('KNN classifier with braycurtis distance')\n",
    "plt.plot(neighbors, cv_scores)\n",
    "plt.xlabel('Number of Neighbors K')\n",
    "plt.ylabel('Train Accuracy')\n",
    "plt.show()\n",
    "#python2.x\n",
    "print(\"The optimal k value is %d\" % optimal_k)\n",
    "#python3.x\n",
    "# print(\"The optimal k value is %d\" % optimal_k)"
   ]
  },
  {
   "cell_type": "markdown",
   "metadata": {},
   "source": [
    "We build a k-nn classifier and train it with the train descriptors"
   ]
  },
  {
   "cell_type": "code",
   "execution_count": 9,
   "metadata": {},
   "outputs": [
    {
     "data": {
      "text/plain": [
       "KNeighborsClassifier(algorithm='auto', leaf_size=30, metric='braycurtis',\n",
       "           metric_params=None, n_jobs=-1, n_neighbors=5, p=2,\n",
       "           weights='uniform')"
      ]
     },
     "execution_count": 9,
     "metadata": {},
     "output_type": "execute_result"
    }
   ],
   "source": [
    "knn = KNeighborsClassifier(n_neighbors=5,n_jobs=-1,metric='braycurtis')\n",
    "knn.fit(visual_words, train_labels) "
   ]
  },
  {
   "cell_type": "markdown",
   "metadata": {},
   "source": [
    "We end up computing the test descriptors and compute the accuracy of the model"
   ]
  },
  {
   "cell_type": "code",
   "execution_count": 10,
   "metadata": {},
   "outputs": [],
   "source": [
    "visual_words_test=np.zeros((len(test_images_filenames),k),dtype=np.float32)\n",
    "for i in range(len(test_images_filenames)):\n",
    "    filename=test_images_filenames[i]\n",
    "    ima=cv2.imread(filename)\n",
    "    gray=cv2.cvtColor(ima,cv2.COLOR_BGR2GRAY)\n",
    "    if(x==1):\n",
    "        kpt,des=SIFTdetector.detectAndCompute(gray,None)\n",
    "    if(x==2):\n",
    "        kpt,des=SURFdetector.detectAndCompute(gray,None)\n",
    "    if(x==3):\n",
    "        kpt,des=ORBdetector.detectAndCompute(gray,None)\n",
    "    if(x==4):\n",
    "        kpt = [cv2.KeyPoint(x, y, step_size) for y in range(0, gray.shape[0], step_size) \n",
    "                                            for x in range(0, gray.shape[1], step_size)]        \n",
    "        kpt,des=SIFTdetector.compute(gray,kpt)\n",
    "        \n",
    "    words=codebook.predict(des)\n",
    "    visual_words_test[i,:]=np.bincount(words,minlength=k)"
   ]
  },
  {
   "cell_type": "code",
   "execution_count": 11,
   "metadata": {
    "scrolled": true
   },
   "outputs": [
    {
     "name": "stdout",
     "output_type": "stream",
     "text": [
      "76.70384138785626\n"
     ]
    }
   ],
   "source": [
    "accuracy = 100*knn.score(visual_words_test, test_labels)\n",
    "print(accuracy)"
   ]
  },
  {
   "cell_type": "markdown",
   "metadata": {},
   "source": [
    "Accuracy's results are:\n",
    "\n",
    "SIFT:\n",
    "\n",
    "| Distance | Initial parameters | Optimal K |\n",
    "| --- | --- | --- |\n",
    "| Euclidean |  53.5315 | 55.8859 |\n",
    "| Chebyshev |  43.2465 | 44.6096 |\n",
    "| Manhattan |  50.1858 | 52.4163 |\n",
    "|  Hamming  |  35.1920 | 37.5464 |\n",
    "| Canberra  |  50.1858 | 51.6728 |\n",
    "|Braycurtis |  57.1250 | 57.6208 |\n",
    "\n",
    "\n",
    "SURF:\n",
    "\n",
    "| Distance | Initial parameters | Optimal K |\n",
    "| --- | --- | --- |\n",
    "| Euclidean |  54.7707 | 57.0012 |\n",
    "| Chebyshev |  46.8401 | 49.5662 |\n",
    "| Manhattan |  53.5315 | 53.5315 |\n",
    "|  Hamming  |  35.9355 | 37.1747 |\n",
    "| Canberra  |  55.7620 | 56.2577 |\n",
    "|Braycurtis |  62.5774 | 63.8166 |\n",
    "\n",
    "\n",
    "ORB:\n",
    "\n",
    "| Distance | Initial parameters | Optimal K |\n",
    "| --- | --- | --- |\n",
    "| Euclidean |  29.8636 | 31.8463 |\n",
    "| Chebyshev |  22.6765 | 24.5353 |\n",
    "| Manhattan |  29.7397 | 33.8289 |\n",
    "|  Hamming  |  23.0483 | 25.5266 |\n",
    "| Canberra  |  27.3853 | 27.1375 |\n",
    "|Braycurtis |  27.5092 | 29.2441 |\n",
    "\n",
    "\n",
    "Dense SIFT:\n",
    "\n",
    "| Distance | Initial parameters | Optimal K |\n",
    "| --- | --- | --- |\n",
    "| Euclidean |  70.1363 |  |\n",
    "| Chebyshev |  58.7360 |  |\n",
    "| Manhattan |  76.7038 |  |\n",
    "|  Hamming  |  36.3073 |  |\n",
    "| Canberra  |  74.2255 |  |\n",
    "|Braycurtis |  76.7038 |  |\n",
    "\n",
    "\n",
    "\n",
    "\n",
    "\n",
    "\n",
    "\n",
    "\n",
    "\n",
    "\n",
    "\n",
    "\n",
    "\n",
    "\n"
   ]
  }
 ],
 "metadata": {
  "kernelspec": {
   "display_name": "Python 2",
   "language": "python",
   "name": "python2"
  },
  "language_info": {
   "codemirror_mode": {
    "name": "ipython",
    "version": 3
   },
   "file_extension": ".py",
   "mimetype": "text/x-python",
   "name": "python",
   "nbconvert_exporter": "python",
   "pygments_lexer": "ipython3",
   "version": "3.7.1"
  }
 },
 "nbformat": 4,
 "nbformat_minor": 2
}
