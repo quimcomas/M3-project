{
 "cells": [
  {
   "cell_type": "markdown",
   "metadata": {},
   "source": [
    "# Lab 2: Bag of Visual Words Image Classification"
   ]
  },
  {
   "cell_type": "markdown",
   "metadata": {},
   "source": [
    "Team 3: Zuzanna Szafranowska, Claudia Baca, Quim Comas"
   ]
  },
  {
   "cell_type": "markdown",
   "metadata": {},
   "source": [
    "The goal in this second lab is improve our bag of visual words from previous lab using:\n",
    "\n",
    "-  Dense SIFT with different scales.\n",
    "-  Normalization the descriptors (L2-power norm).\n",
    "-  SVM classifier instead of KNN classifier.\n",
    "-  StantardScaler to remove the mean and scale the data. \n",
    "-  Cross validation.\n",
    "-  Different kernels for SVM classifier.\n",
    "-  Spatial pyramids\n",
    "\n",
    "Apart from the mandatory tasks we also perform some other mesuares to evaluate our Bow such as confusion matrix, precision, recall or F-score."
   ]
  },
  {
   "cell_type": "code",
   "execution_count": 1,
   "metadata": {},
   "outputs": [],
   "source": [
    "import cv2\n",
    "import numpy as np\n",
    "import itertools\n",
    "#inPython3.x:\n",
    "import pickle as cPickle\n",
    "#in Python2.x:\n",
    "#import cPickle\n",
    "from sklearn.model_selection import cross_val_score, StratifiedKFold\n",
    "import matplotlib.pyplot as plt\n",
    "from sklearn.cluster import MiniBatchKMeans\n",
    "from sklearn.neighbors import KNeighborsClassifier\n",
    "from sklearn import svm\n",
    "from sklearn.preprocessing import StandardScaler,normalize, Normalizer,PowerTransformer\n",
    "from sklearn.metrics import confusion_matrix,precision_recall_fscore_support\n",
    "import time\n",
    "# from sklearn.cross_validation import StratifiedKFold\n",
    "\n"
   ]
  },
  {
   "cell_type": "markdown",
   "metadata": {},
   "source": [
    "Let us first read the train and test files"
   ]
  },
  {
   "cell_type": "code",
   "execution_count": 2,
   "metadata": {
    "scrolled": true
   },
   "outputs": [],
   "source": [
    "train_images_filenames = cPickle.load(open('train_images_filenames.dat','rb'))\n",
    "test_images_filenames = cPickle.load(open('test_images_filenames.dat','rb'))\n",
    "train_labels = cPickle.load(open('train_labels.dat','rb'))\n",
    "test_labels = cPickle.load(open('test_labels.dat','rb'))"
   ]
  },
  {
   "cell_type": "markdown",
   "metadata": {},
   "source": [
    "<h1>Feature extraction, descriptors</h1>\n",
    "\n",
    "We create detectors and descriptors: SIFT, SURF, ORB"
   ]
  },
  {
   "cell_type": "code",
   "execution_count": 3,
   "metadata": {},
   "outputs": [],
   "source": [
    "SIFTdetector = cv2.xfeatures2d.SIFT_create(nfeatures=300)\n",
    "SURFdetector = cv2.xfeatures2d.SURF_create(300)\n",
    "ORBdetector = cv2.ORB_create()"
   ]
  },
  {
   "cell_type": "markdown",
   "metadata": {},
   "source": [
    "We choose the type of local feature detector that we want to use. \n",
    "\n",
    "- 1 ==> SIFT\n",
    "- 2 ==> SURF\n",
    "- 3 ==> ORB\n",
    "- 4 ==> Dense SIFT\n",
    "- 5 ==> Dense SURF\n"
   ]
  },
  {
   "cell_type": "code",
   "execution_count": 4,
   "metadata": {},
   "outputs": [],
   "source": [
    "k = 1024\n",
    "#codebook size\n",
    "x=4\n",
    "#x = input(\"Enter a number to choose the local feature detector: \")\n",
    "L=0\n",
    "#Enter the number levels of the spatial pyramid (O to L)\n",
    "norm=0\n",
    "#Type of normalization of 1 L2 and 2 Power, 0 if none\n",
    "step_size = 5\n",
    "#step size of Dense SIFT and SURF\n",
    "scale=5\n",
    "#scale of Dense SIFT and SURF\n"
   ]
  },
  {
   "cell_type": "code",
   "execution_count": 5,
   "metadata": {},
   "outputs": [],
   "source": [
    "def descriptors(gray,x):\n",
    "    if(x==1):\n",
    "        kpt,des=SIFTdetector.detectAndCompute(gray,None)\n",
    "    if(x==2):\n",
    "        kpt,des=SURFdetector.detectAndCompute(gray,None)\n",
    "    if(x==3):\n",
    "        kpt,des=ORBdetector.detectAndCompute(gray,None)\n",
    "    if(x==4):\n",
    "        kpt = [cv2.KeyPoint(x, y, scale) for y in range(0, gray.shape[0], step_size) \n",
    "                                            for x in range(0, gray.shape[1], step_size)]\n",
    "        kpt,des=SIFTdetector.compute(gray,kpt)\n",
    "    if(x==5):\n",
    "        \n",
    "        kpt = [cv2.KeyPoint(x, y, scale) for y in range(0, gray.shape[0], step_size) \n",
    "                                            for x in range(0, gray.shape[1], step_size)]\n",
    "        kpt,des=SURFdetector.compute(gray,kpt)\n",
    "    return kpt, des"
   ]
  },
  {
   "cell_type": "code",
   "execution_count": 6,
   "metadata": {},
   "outputs": [],
   "source": [
    "def normalize(hist1):\n",
    "    if(norm==1):\n",
    "        hist2=np.linalg.norm(x, ord=2)\n",
    "        normhist=hist1 / hist2\n",
    "    if(norm==2):\n",
    "        hist=np.linalg.norm(x, ord=2)\n",
    "\n",
    "    return normhist       "
   ]
  },
  {
   "cell_type": "markdown",
   "metadata": {},
   "source": [
    "<h1>Bow</h1>\n",
    "\n",
    "We compute the indicated descriptor for all the train images and subsequently build a numpy array with all the descriptors stacked together, then we   compute a k-means clustering on the descriptor space, where we test 3 different codebook sizes k (64,128,256). And, for each train image, we project each keypoint descriptor to its closest visual word. We represent each of the images with the frequency of each visual word."
   ]
  },
  {
   "cell_type": "code",
   "execution_count": 7,
   "metadata": {},
   "outputs": [],
   "source": [
    "def Bow(train_images_filenames,train_labels):\n",
    "    Train_descriptors = []\n",
    "    Train_label_per_descriptor = []\n",
    "    visual_words=[]\n",
    "    for filename,labels in zip(train_images_filenames,train_labels):\n",
    "        ima=cv2.imread(filename)\n",
    "        gray=cv2.cvtColor(ima,cv2.COLOR_BGR2GRAY)\n",
    "        \n",
    "        kpt,des=descriptors(gray,x)\n",
    "        \n",
    "        Train_descriptors.append(des)\n",
    "        \n",
    "        Train_label_per_descriptor.append(labels)\n",
    "    D=np.vstack(Train_descriptors)\n",
    "    if(norm==1):\n",
    "        transformer = Normalizer(norm = 'l2')\n",
    "        temp = transformer.fit(D)\n",
    "        D = temp.transform(D)\n",
    "        for i in range(len(Train_descriptors)):\n",
    "            Train_descriptors[i] = temp.transform(Train_descriptors[i]) \n",
    "    elif(norm==2):\n",
    "        pt=PowerTransformer()\n",
    "        temp=pt.fit(D)\n",
    "        D=temp.transform(D)\n",
    "        for i in range(len(Train_descriptors)):\n",
    "            Train_descriptors[i] = temp.transform(Train_descriptors[i]) \n",
    "    codebook = MiniBatchKMeans(n_clusters=k, verbose=False, batch_size=k * 20,compute_labels=False,reassignment_ratio=10**-4,random_state=42)\n",
    "    codebook.fit(D)\n",
    "    \n",
    "    visual_words=np.zeros((len(Train_descriptors),k),dtype=np.float32)\n",
    "    for i in range(len(Train_descriptors)): \n",
    "        words=codebook.predict(Train_descriptors[i])\n",
    "        visual_words[i,:]=np.bincount(words,minlength=k)\n",
    "    \n",
    "    return visual_words, codebook\n",
    "    \n",
    "    \n",
    "    "
   ]
  },
  {
   "cell_type": "code",
   "execution_count": 8,
   "metadata": {},
   "outputs": [
    {
     "name": "stdout",
     "output_type": "stream",
     "text": [
      "Time: 951.7278108596802s.\n"
     ]
    }
   ],
   "source": [
    "start = time.time()\n",
    "visual_words,codebook=Bow(train_images_filenames,train_labels)\n",
    "end = time.time()\n",
    "print('Time: {}s.'.format(str(end-start)))"
   ]
  },
  {
   "cell_type": "markdown",
   "metadata": {},
   "source": [
    "<h1>Bow-Spatial Pyramid</h1>\n",
    "\n",
    "We compute the SIFT descriptors for all the train images and subsequently build a numpy array with all the descriptors stacked together"
   ]
  },
  {
   "cell_type": "code",
   "execution_count": 16,
   "metadata": {},
   "outputs": [],
   "source": [
    "def get_spatialpyramid(train_images_filenames,train_labels,l):\n",
    "    Train_descriptors = []\n",
    "    Train_label_per_descriptor = []\n",
    "    visual_words=[]\n",
    "    visualwords=[]\n",
    "    if(l==0):\n",
    "        for filename,labels in zip(train_images_filenames,train_labels):\n",
    "            ima=cv2.imread(filename)\n",
    "            gray=cv2.cvtColor(ima,cv2.COLOR_BGR2GRAY)\n",
    "            kpt,des=descriptors(gray,x)\n",
    "            Train_descriptors.append(des)   \n",
    "        D=np.vstack(Train_descriptors)\n",
    "        if(norm==1):\n",
    "            transformer = Normalizer(norm = 'l2')\n",
    "            temp = transformer.fit(D)\n",
    "            D = temp.transform(D)\n",
    "            for i in range(len(Train_descriptors)):\n",
    "                Train_descriptors[i] = temp.transform(Train_descriptors[i]) \n",
    "        elif(norm==2):\n",
    "            pt=PowerTransformer()\n",
    "            temp=pt.fit(D)\n",
    "            D=temp.transform(D)\n",
    "            for i in range(len(Train_descriptors)):\n",
    "                Train_descriptors[i] = temp.transform(Train_descriptors[i])  \n",
    "        codebook.fit(D)\n",
    "        visualwords=np.zeros((len(Train_descriptors),k),dtype=np.float32)\n",
    "        for i in range(len(Train_descriptors)): \n",
    "            words=codebook.predict(Train_descriptors[i])\n",
    "            visualwords[i,:]=np.bincount(words,minlength=k)\n",
    "            \n",
    "        visual_words=visualwords \n",
    "    else:  \n",
    "        for filename,labels in zip(train_images_filenames,train_labels):\n",
    "            Train_descriptors = []\n",
    "            ima=cv2.imread(filename)\n",
    "            gray=cv2.cvtColor(ima,cv2.COLOR_BGR2GRAY)\n",
    "            wstep=np.int(gray.shape[0]/(2**(l)))\n",
    "            hstep=np.int(gray.shape[1]/(2**(l)))\n",
    "           \n",
    "            for u in range(0,gray.shape[0],wstep):\n",
    "                for f in range(0,gray.shape[1],hstep):  \n",
    "                    kpt,des=descriptors(gray[u:u+hstep, f:f+wstep],x)\n",
    "                    Train_descriptors.append(des)\n",
    "            D=np.vstack(Train_descriptors)        \n",
    "            weight = 2**(L-l) \n",
    "            if(norm==1):\n",
    "                transformer = Normalizer(norm = 'l2')\n",
    "                temp = transformer.fit(D)\n",
    "                D = temp.transform(D)\n",
    "                for i in range(len(Train_descriptors)):\n",
    "                    Train_descriptors[i] =weight*temp.transform(Train_descriptors[i]) \n",
    "            elif(norm==2):\n",
    "                pt=PowerTransformer()\n",
    "                temp=pt.fit(D)\n",
    "                D=temp.transform(D)\n",
    "                for i in range(len(Train_descriptors)):\n",
    "                    Train_descriptors[i] = weight*temp.transform(Train_descriptors[i])          \n",
    "            visualwords=np.zeros((len(Train_descriptors),k),dtype=np.float32)    \n",
    "            for i in range(len(Train_descriptors)): \n",
    "                words=codebook.predict(Train_descriptors[i])\n",
    "                visualwords[i,:]=np.bincount(words,minlength=k)\n",
    "            weight = 2**(L-l)           \n",
    "            visual_words.append((visualwords.ravel()))     \n",
    "    return visual_words,codebook\n",
    "                        "
   ]
  },
  {
   "cell_type": "code",
   "execution_count": 17,
   "metadata": {},
   "outputs": [],
   "source": [
    "k = 256\n",
    "L=0\n",
    "codebook = MiniBatchKMeans(n_clusters=k, verbose=False, batch_size=k * 20,compute_labels=False,reassignment_ratio=10**-4,random_state=42)\n",
    "i=0\n",
    "visual_wordsl0,codebookl0=get_spatialpyramid(train_images_filenames,train_labels,0);\n",
    "visual_wordsl1,codebook11=get_spatialpyramid(train_images_filenames,train_labels,1);  \n",
    "        \n",
    "            "
   ]
  },
  {
   "cell_type": "code",
   "execution_count": 18,
   "metadata": {},
   "outputs": [],
   "source": [
    "visual_words=[]\n",
    "for i in range(len(visual_wordsl0)):\n",
    "    visu=[]\n",
    "    visu=np.append(visual_wordsl0[i],visual_wordsl1[i])\n",
    "    visual_words.append(visu)\n",
    "\n"
   ]
  },
  {
   "cell_type": "code",
   "execution_count": 19,
   "metadata": {},
   "outputs": [],
   "source": [
    "def get_test_spatialpyramid(test_images_filenames,l):\n",
    "    Train_descriptors = []\n",
    "    Train_label_per_descriptor = []\n",
    "    visual_words=[]\n",
    "    visualwords=[]\n",
    "    if(l==0):\n",
    "        for i in range(len(test_images_filenames)):\n",
    "            filename=test_images_filenames[i]\n",
    "            ima=cv2.imread(filename)\n",
    "            gray=cv2.cvtColor(ima,cv2.COLOR_BGR2GRAY)\n",
    "            kpt,des=descriptors(gray,x)\n",
    "            Train_descriptors.append(des)   \n",
    "        D=np.vstack(Train_descriptors)\n",
    "        if(norm==1):\n",
    "            transformer = Normalizer(norm = 'l2')\n",
    "            temp = transformer.fit(D)\n",
    "            D = temp.transform(D)\n",
    "            for i in range(len(Train_descriptors)):\n",
    "                Train_descriptors[i] = temp.transform(Train_descriptors[i]) \n",
    "        elif(norm==2):\n",
    "            pt=PowerTransformer()\n",
    "            temp=pt.fit(D)\n",
    "            D=temp.transform(D)\n",
    "            for i in range(len(Train_descriptors)):\n",
    "                Train_descriptors[i] = temp.transform(Train_descriptors[i])  \n",
    "        codebook.fit(D)\n",
    "        visualwords=np.zeros((len(Train_descriptors),k),dtype=np.float32)\n",
    "        for i in range(len(Train_descriptors)): \n",
    "            words=codebook.predict(Train_descriptors[i])\n",
    "            visualwords[i,:]=np.bincount(words,minlength=k)\n",
    "            \n",
    "        visual_words=visualwords \n",
    "    else:  \n",
    "        for i in range(len(test_images_filenames)):\n",
    "            Train_descriptors = []\n",
    "            filename=test_images_filenames[i]\n",
    "            ima=cv2.imread(filename)\n",
    "            gray=cv2.cvtColor(ima,cv2.COLOR_BGR2GRAY)\n",
    "            wstep=np.int(gray.shape[0]/(2**(l)))\n",
    "            hstep=np.int(gray.shape[1]/(2**(l)))\n",
    "           \n",
    "            for u in range(0,gray.shape[0],wstep):\n",
    "                for f in range(0,gray.shape[1],hstep):  \n",
    "                    kpt,des=descriptors(gray[u:u+hstep, f:f+wstep],x)\n",
    "                    Train_descriptors.append(des)\n",
    "            D=np.vstack(Train_descriptors)        \n",
    "            weight = 2**(L-l) \n",
    "            if(norm==1):\n",
    "                transformer = Normalizer(norm = 'l2')\n",
    "                temp = transformer.fit(D)\n",
    "                D = temp.transform(D)\n",
    "                for i in range(len(Train_descriptors)):\n",
    "                    Train_descriptors[i] =weight*temp.transform(Train_descriptors[i]) \n",
    "            elif(norm==2):\n",
    "                pt=PowerTransformer()\n",
    "                temp=pt.fit(D)\n",
    "                D=temp.transform(D)\n",
    "                for i in range(len(Train_descriptors)):\n",
    "                    Train_descriptors[i] = weight*temp.transform(Train_descriptors[i])          \n",
    "            visualwords=np.zeros((len(Train_descriptors),k),dtype=np.float32)    \n",
    "            for i in range(len(Train_descriptors)): \n",
    "                words=codebook.predict(Train_descriptors[i])\n",
    "                visualwords[i,:]=np.bincount(words,minlength=k)\n",
    "            weight = 2**(L-l)           \n",
    "            visual_words.append((visualwords.ravel()))     \n",
    "    return visual_words,codebook\n"
   ]
  },
  {
   "cell_type": "code",
   "execution_count": 20,
   "metadata": {},
   "outputs": [],
   "source": [
    "visual_wordsl0test,codebookl0test=get_test_spatialpyramid(test_images_filenames,0)\n",
    "visual_wordsl1test,codebookl1test=get_test_spatialpyramid(test_images_filenames,1)\n",
    "visual_words_test=[]\n",
    "for i in range(len(visual_wordsl0test)):\n",
    "    visu=[]\n",
    "    visu=np.append(visual_wordsl0test[i],visual_wordsl1test[i])\n",
    "    visual_words_test.append(visu)"
   ]
  },
  {
   "cell_type": "markdown",
   "metadata": {},
   "source": [
    "Before applying the SVM we create the histogram intersection kernel (it is not available in the sklearn library):"
   ]
  },
  {
   "cell_type": "code",
   "execution_count": 9,
   "metadata": {},
   "outputs": [],
   "source": [
    "def histogram_intersection(M,N):\n",
    "    M_samples, M_features = M.shape\n",
    "    N_samples, N_features = N.shape\n",
    "    \n",
    "    K_int= np.zeros(shape=(M_samples,N_samples),dtype= np.float)\n",
    "    for i in range(M_samples):\n",
    "        for j in range(N_samples):\n",
    "            K_int[i,j]=np.minimum(M[i,:],N[j,:]).sum()\n",
    "    \n",
    "    return K_int"
   ]
  },
  {
   "cell_type": "markdown",
   "metadata": {},
   "source": [
    "<h1>Cross Validation SVM</h1>\n",
    "\n",
    "Creating folds for Cross-Validation:"
   ]
  },
  {
   "cell_type": "code",
   "execution_count": 10,
   "metadata": {},
   "outputs": [],
   "source": [
    "K_cv=3\n",
    "skf = StratifiedKFold(n_splits=K_cv)"
   ]
  },
  {
   "cell_type": "markdown",
   "metadata": {},
   "source": [
    "<h1>SVM kernels</h1>\n",
    "In this step we add the SVM classifier to train our data. Before train our visual words, we preprocess the data standardizing the features by removing the mean and scaling to unit variance. In our implementation we can choose between different types of kernels:\n",
    "\n",
    "- Linear Kernel --> 'linear'\n",
    "- Rbf Kernel --> 'rbf'\n",
    "- Polynomial Kernel --> 'poly'\n",
    "- Sigmoid Kernel --> 'sigmoid'\n",
    "- Histogram Intersection Kernel --> 'histogram'"
   ]
  },
  {
   "cell_type": "code",
   "execution_count": 11,
   "metadata": {},
   "outputs": [
    {
     "name": "stdout",
     "output_type": "stream",
     "text": [
      "\n",
      "===================FOLD= 0\n",
      "\n",
      "===================FOLD= 1\n",
      "\n",
      "===================FOLD= 2\n",
      "Time: 85.15749788284302s.\n"
     ]
    }
   ],
   "source": [
    "#Choose the type of kernel (histogram by default):\n",
    "\n",
    "Kernel= 'histogram'\n",
    "\n",
    "stdSlr= StandardScaler().fit(visual_words)\n",
    "scaled = stdSlr.transform(visual_words)\n",
    "start=time.time()\n",
    "if(Kernel=='linear'):\n",
    "    clf= svm.SVC(kernel='linear',C=0.01,gamma=0.002)\n",
    "if(Kernel=='rbf'):\n",
    "    clf= svm.SVC(kernel='rbf',C=1,gamma=0.002)\n",
    "if(Kernel=='poly'):\n",
    "    clf= svm.SVC(kernel='poly',C=1,gamma=1)\n",
    "if(Kernel=='sigmoid'):\n",
    "    clf= svm.SVC(kernel='sigmoid',C=1,gamma=0.002)\n",
    "if(Kernel=='histogram'): \n",
    "    clf= svm.SVC(kernel='precomputed',C=0.01) \n",
    "        \n",
    "folds = list(skf.split(scaled, train_labels))\n",
    "for j, (train_idx, test_idx) in enumerate(folds):\n",
    "    print('\\n===================FOLD=',j)\n",
    "    train_labels=np.asarray(train_labels)\n",
    "\n",
    "    scaled_train, scaled_valid = scaled[train_idx], scaled[test_idx]\n",
    "    labels_train, labels_valid = train_labels[train_idx], train_labels[test_idx]\n",
    "\n",
    "    if(Kernel=='histogram'): \n",
    "        kernel=histogram_intersection(scaled_train,scaled_train)\n",
    "        clf.fit(kernel,labels_train)  \n",
    "    else:\n",
    "        clf.fit(scaled_train,labels_train)\n",
    "\n",
    "    if(Kernel!='histogram'):\n",
    "        accuracy = 100*clf.score(scaled_valid, labels_valid)\n",
    "        print(accuracy)\n",
    "end=time.time()\n",
    "print('Time: {}s.'.format(str(end-start)))\n",
    "        \n"
   ]
  },
  {
   "cell_type": "markdown",
   "metadata": {},
   "source": [
    "<h1>Optimal k value and cross validation for KNN</h1>\n",
    "\n",
    "To see the effect of K value in KNN classifier we perform a 10 fold cross validation with our training set to estimate the optimal K value. Also we represent the evolution of the accuracy for each k value to see the influence of the k value:   "
   ]
  },
  {
   "cell_type": "code",
   "execution_count": 21,
   "metadata": {},
   "outputs": [
    {
     "data": {
      "image/png": "[encoded data removed]",
      "text/plain": [
       "<Figure size 432x288 with 1 Axes>"
      ]
     },
     "metadata": {},
     "output_type": "display_data"
    },
    {
     "name": "stdout",
     "output_type": "stream",
     "text": [
      "The optimal k value is 20\n"
     ]
    }
   ],
   "source": [
    "neighbors = list(filter(lambda x: x % 2 == 0, list(range(1,50))))\n",
    "cv_scores = []\n",
    "\n",
    "for kk in neighbors:\n",
    "    knn = KNeighborsClassifier(n_neighbors=kk,n_jobs=-1,metric='braycurtis')\n",
    "    scores = cross_val_score(knn, visual_words, train_labels, cv=10, scoring='accuracy')\n",
    "    cv_scores.append(scores.mean())\n",
    "\n",
    "optimal_k = neighbors[cv_scores.index(max(cv_scores))]\n",
    "\n",
    "plt.title('Accuracy as a function of K')\n",
    "plt.plot(neighbors, cv_scores)\n",
    "plt.xlabel('Number of Neighbors K')\n",
    "plt.ylabel('Train Accuracy')\n",
    "plt.show()\n",
    "#python2.x\n",
    "#print(\"The optimal k value is %d\" % optimal_k)\n",
    "#python3.x\n",
    "print(\"The optimal k value is %d\" % optimal_k)"
   ]
  },
  {
   "cell_type": "markdown",
   "metadata": {},
   "source": [
    "We build a k-nn classifier and train it with the train descriptors"
   ]
  },
  {
   "cell_type": "code",
   "execution_count": 27,
   "metadata": {},
   "outputs": [
    {
     "name": "stdout",
     "output_type": "stream",
     "text": [
      "\n",
      "===================FOLD= 0\n",
      "78.92234548335975\n",
      "\n",
      "===================FOLD= 1\n",
      "81.3397129186603\n",
      "\n",
      "===================FOLD= 2\n",
      "77.52808988764045\n",
      "Time: 1543.3036487102509s.\n"
     ]
    }
   ],
   "source": [
    "folds = skf.split(visual_words, train_labels)\n",
    "knn = KNeighborsClassifier(n_neighbors=optimal_k,n_jobs=-1,metric='braycurtis')\n",
    "\n",
    "for j, (train_idx, test_idx) in enumerate(folds):\n",
    "    print('\\n===================FOLD=',j)\n",
    "    train_labels=np.asarray(train_labels)\n",
    "\n",
    "    visual_words_train=[visual_words[j] for j in train_idx]\n",
    "    visual_words_valid =[visual_words[j] for j in test_idx]\n",
    "    labels_train, labels_valid = train_labels[train_idx], train_labels[test_idx]\n",
    "    knn.fit(visual_words_train, labels_train) \n",
    "    accuracy = 100*knn.score(visual_words_valid, labels_valid)\n",
    "    print(accuracy)\n",
    "end=time.time()\n",
    "print('Time: {}s.'.format(str(end-start)))"
   ]
  },
  {
   "cell_type": "markdown",
   "metadata": {},
   "source": [
    "<h1>Test descriptors</h1>\n",
    "\n",
    "We end up computing the test descriptors for the svm:"
   ]
  },
  {
   "cell_type": "code",
   "execution_count": 25,
   "metadata": {},
   "outputs": [],
   "source": [
    "visual_words_test=np.zeros((len(test_images_filenames),k),dtype=np.float32)\n",
    "for i in range(len(test_images_filenames)):\n",
    "    filename=test_images_filenames[i]\n",
    "    ima=cv2.imread(filename)\n",
    "    gray=cv2.cvtColor(ima,cv2.COLOR_BGR2GRAY)\n",
    "    \n",
    "    kpt,des=descriptors(gray,x)\n",
    "        \n",
    "    words=codebook.predict(des)\n",
    "    visual_words_test[i,:]=np.bincount(words,minlength=k)"
   ]
  },
  {
   "cell_type": "markdown",
   "metadata": {},
   "source": [
    "<h1>Evaluation</h1>\n",
    "\n",
    "In the next step we perform the confusion matrix to evaluate our classifier with respect the 8 image classes:"
   ]
  },
  {
   "cell_type": "code",
   "execution_count": 13,
   "metadata": {},
   "outputs": [
    {
     "data": {
      "image/png": "[encoded data removed]",
      "text/plain": [
       "<Figure size 432x288 with 2 Axes>"
      ]
     },
     "metadata": {},
     "output_type": "display_data"
    }
   ],
   "source": [
    "classes = list(set(test_labels))\n",
    "\n",
    "if(Kernel== 'histogram'):\n",
    "    predict= histogram_intersection(stdSlr.transform(visual_words_test),scaled_train)\n",
    "    predictions= clf.predict(predict)\n",
    "else:\n",
    "    predictions= clf.predict(stdSlr.transform(visual_words_test))\n",
    "\n",
    "conf_matrix= confusion_matrix(test_labels,predictions)\n",
    "plt.figure()\n",
    "plt.imshow(conf_matrix, interpolation='nearest', cmap=plt.cm.Greens)\n",
    "plt.title('Confusion matrix')\n",
    "plt.colorbar()\n",
    "tick_marks = np.arange(len(classes))\n",
    "plt.xticks(tick_marks, classes, rotation=90)\n",
    "plt.yticks(tick_marks, classes)\n",
    "\n",
    "thresh = conf_matrix.max() / 2.\n",
    "for i, j in itertools.product(range(conf_matrix.shape[0]), range(conf_matrix.shape[1])):\n",
    "    plt.text(j, i, conf_matrix[i, j],horizontalalignment=\"center\",color=\"white\" if conf_matrix[i, j] > thresh else \"black\")\n"
   ]
  },
  {
   "cell_type": "markdown",
   "metadata": {},
   "source": [
    "To obtain more information about our classification we compute other mesuares like precision, recall and f-score to complement the confusion matrix and the accuracy:"
   ]
  },
  {
   "cell_type": "code",
   "execution_count": 14,
   "metadata": {},
   "outputs": [
    {
     "name": "stdout",
     "output_type": "stream",
     "text": [
      "88.68488961716734\n",
      "88.20903267492855\n",
      "88.3375890541777\n"
     ]
    }
   ],
   "source": [
    "precision, recall, fscore, support= precision_recall_fscore_support(test_labels, predictions,average='macro')\n",
    "\n",
    "print (precision*100)\n",
    "print (recall*100)\n",
    "print (fscore*100)"
   ]
  },
  {
   "cell_type": "markdown",
   "metadata": {},
   "source": [
    "Finally, we compute the accuracy for SVM:"
   ]
  },
  {
   "cell_type": "code",
   "execution_count": 15,
   "metadata": {},
   "outputs": [
    {
     "name": "stdout",
     "output_type": "stream",
     "text": [
      "88.35192069392814\n"
     ]
    }
   ],
   "source": [
    "if Kernel == 'histogram':\n",
    "    accuracy_svm = 100*clf.score(predict, test_labels)\n",
    "else:\n",
    "    accuracy_svm = 100*clf.score(stdSlr.transform(visual_words_test), test_labels)\n",
    "print(accuracy_svm)"
   ]
  },
  {
   "cell_type": "markdown",
   "metadata": {},
   "source": [
    "<h1>Conclusions</h1>\n",
    "\n",
    "\n",
    "\n",
    "Finally, in this last section we will expose all results and conclusions of this second lab. \n",
    "\n",
    "\n",
    "First of all, we will focus on SVM classifier and SVM Kernels. In this second lab, we have changed the KNN classifier for the SVM classifier, which has caused an improvement in terms of accuracy. To analyse in more depth the different SVM Kernels we define an initial parameters to see the effects of the different parameters. \n",
    "\n",
    "The different SVM kernels that we have implemented are: Linear kernel, Radial basis function kernel, Polynomial kernel, Sigmoid kernel and finally we have performed a custom kernel which consists in histogram intersection kernel. \n",
    "\n",
    "Respect to our initial parameter are: Codebook size of 256 using Dense Sift (the best descriptor from lab1) and then we have the parameter C equal to 1, which controls the decision surface, and gamma equal to 0.002 which defines how much influence a single training example.\n",
    "\n",
    "\n",
    "- Using initial parameters: \n",
    "\n",
    "    Codebook = 256;\n",
    "    Trade off C=1;\n",
    "    Gamma=0.002;\n",
    "    Dense SIFT\n",
    "\n",
    "\n",
    "| Kernels | Accuracy | CV time |\n",
    "| --- | --- |--- |\n",
    "| Linear |  82.2800 | 1.1656 s |\n",
    "| Radial Basis Function |  84.0148 | 1.7813 s |\n",
    "| Polynomial |  36.4312 | 3.1022 s |\n",
    "|  Sigmoid |  82.6517 | 1.5055 s |\n",
    "| Histogram intersection |  85.7496 | 61.7647 s | \n",
    "\n",
    "As we can see in the previous table all the kernels work very well except the Polynomial kernel. The best accuracy value that we have obtained is using histogram intersection with 85.7496. In this process we have used cross validation (same for KNN) to ensure data independence between the training and the test (overfitting).\n",
    "\n",
    "Now in the following table we can see the evolution of the SVM kernels with respect the parameter C:\n",
    "\n",
    "- Changing the parameter C: \n",
    "\n",
    "| Kernels | Accuracy, C=0.001  | Accuracy, C=0.01  | Accuracy, C=0.1 | Accuracy, C=0.5 |\n",
    "| --- | --- |--- |--- |\n",
    "| Linear | 81.9083 |84.0148 | 82.5278 | 82.2800 |\n",
    "| Radial Basis Function | 14.6220 |  14.6220 | 14.6220 | 82.7757|\n",
    "| Polynomial | 14.6220 | 14.6221 | 14.6220 | 26.2701 |\n",
    "| Sigmoid | 14.6220 | 14.6220 | 14.6220 | 26.2701 |\n",
    "| Histogram intersection | 81.1648| 85.9975 | 85.7496 | 85.7496 |  \n",
    "\n",
    "Looking the previous table, we can conclude that the linear kernel and histogram intersection kernel improve slightly with respect to the accuracy using the initial parameters. However, the others Kernels don't work well with C less than 1.\n",
    "\n",
    "In the evolution of the SVM kernels with respect the parameter gamma we have:\n",
    "\n",
    "- Changing the parameter gamma: \n",
    "\n",
    "| Kernels | Accuracy, gamma=0.0001  | Accuracy, gamma=0.01  | Accuracy, gamma=0.1 | Accuracy, gamma=1 |\n",
    "| --- | --- |--- |--- |\n",
    "| Linear | 82.2800 |82.2800 | 82.2800 | 82.2800 |\n",
    "| Radial Basis Function | 74.3494 |  81.0408 | 14.6220 | 14.6220|\n",
    "| Polynomial | 14.6220 | 79.0582 | 79.1821 | 79.1821|\n",
    "| Sigmoid | 59.1078 | 71.7472 | 39.5291 | 39.9008|\n",
    "| Histogram intersection | 85.7496 | 85.7496 | 85.7496 | 85.7496 | \n",
    "\n",
    "In this case, we can notice that the gamma parameter not have any effect to linear and histogram intersection kernel. On the other hand, the rest of the kernels have an optimal value between 0.0001 and 0.01 which correspond approximately to the initial parameter gamma=0.002.\n",
    "\n",
    "- Using optimal values for C and gamma from previous tables:\n",
    "\n",
    "| Kernels | Accuracy | Final parameters | CV time |\n",
    "| --- | --- |--- |--- |\n",
    "| Linear |  82.5278 | C= 0.01; gamma= 0.002| 1.2401 s |\n",
    "| Radial Basis Function |  84.0148 |C= 1 ; gamma= 0.002| 1.7813 s |\n",
    "| Polynomial |  79.1821 |C= 1 ; gamma= 1 | 29.4810 s |\n",
    "|  Sigmoid|  82.6517 | C= 1; gamma= 0.002| 1.5055 s |\n",
    "| Histogram intersection |  85.9975 | C= 0.01; gamma= 0.002| 59.8077 s |\n",
    "\n",
    "Finally, in the last table about kernels we summarize the different kernels that we have tested and using the information of the last two tables about C and gamma we have found our optimal value for each kernel. Looking the different results, we can see that the histogram intersection kernel provides the best results 85.9975% followed by the sigmoid and linear kernels (in the rest of results we have used by default the histogram intersection kernel).\n",
    "\n",
    "Before continue with SIFT scale we want to highlight that in our case we don't use the normalization of the descriptors because we have obtained a worse result. Although we expected a growth of the accuracy we obtain a 74.7211% of accuracy (853.00 s) using l2 norm, for this reason we have decided to not use the normalization of the data (norm=0).\n",
    "\n",
    "Now in the next table we have focused in the Dense Sift descriptor and the evolution through different scales (we have used a tiny step size of 5).\n",
    "\n",
    "| DSIFT scale | Accuracy | Execution time |\n",
    "| --- | --- |--- |\n",
    "| 3  |  85.1301 |  318.44 s |\n",
    "| 5  |  85.9975 |  531.40 s |\n",
    "| 7  |  86.6171 |  711.20 s |\n",
    "| 10 |  84.5102 | 1074.69 s |\n",
    "\n",
    "What we can appreciate is that increasing the scale of dense Sift we can obtain better results (at the same time that execution time increase) where we have found an optimal value around 7 scales approximately.\n",
    "\n",
    "The following parameter is the codebook size where we can see a similar evolution respect to Dense Sift scales. Increasing the size of the codebook we can notice an improvement of the accuracy but it causes a high execution time (for instance, 1024 size with 1808.38 s).\n",
    "\n",
    "| Codebook size | Accuracy | Execution time |\n",
    "| --- | --- |--- |\n",
    "| 128 |  83.3952 |  462.44 s |\n",
    "| 256 |  85.9975 |  531.40 s |\n",
    "| 512 |  87.2366 | 1092.52 s |\n",
    "| 1024|  88.3519 | 1808.38 s |\n",
    "\n",
    "We have also tried to combine the best result for kernels, Dsift scales and codebook but we have obtained the same result increasing more the execution time.\n",
    "\n",
    "Therefore, the best result that we obtain during this second lab was using:\n",
    "\n",
    "- SVM classifier and histogram intersection kernel (C=0.01). \n",
    "- Dense Sift with tiny step size of 5 and 5 scales (instead of 7 to reduce the execution time).\n",
    "- Cross validation to prevent overfitting.\n",
    "- Codebook size of 2^10 (1024).\n",
    "\n",
    "And the best accuracy result is  **88.3519 %** .\n",
    "\n",
    "An important conclusion that we can extract thanks to confusion matrix (that we can see in evaluation section) is that in most cases we obtain a great result except in two or three classes. One possible reason to explain this difference between these two or three classes and the rest is that these datasets are very similar so it's very difficult to classify them perfectly (for instance, tallbuiding and inside_city or forest and opencountry). A possible solution in this case are spatial pyramids to recover the spatial information, however, we haven't obtained the desired values using spatial pyramids.\n",
    "\n",
    "As we have seen one of the disadvantages of Bag of Visual Worlds, it’s that the encoding of the feature extraction discards the spatial information of the words, to try to fix that we have implemented the Spatial Pyramids. This technique consists in performing the descriptors computed in the last lab in different layers of each the image, being L=0 the complete image, L=1 the image segmented in 2^2*L … For each region of the layers the descriptors are computed and the words are extracted, then all the histograms of the layers are concatenated in one vector. Our implementation is computationally expensive because we go over all the images more than once, so it takes a lot of time if we use L>1. Regarding the accuracy, although the implementation is correct we were not able to compute correctly the accuracy that we get for L>0, we keep getting errors that the words are not classified getting then low accuracy like 10-12%  for each SVM kernel, each codebook size…\n",
    "\n",
    "\n",
    "To sum up all the conclusions:\n",
    "\n",
    "- SVM classifier improves the accuracy of Bow with respect to KNN classifier.\n",
    "- Histogram intersection kernel with C=0.001 gave us the best perfomance.\n",
    "- We expected an improvement using normalize descriptors but we obtained 10% accuracy less. \n",
    "- Using cross validation we can control the indepence between training an test sets.\n",
    "- Increasing the scales of Dense Sift we improve slihgtly the accuracy (optimal value in our case around 7).\n",
    "- A codebook size between 2^9 and 2^11 improves the perfomance of our classification.\n",
    "- Similar classes in the dataset are difficult to classify perfectly.\n",
    "- Although we didn't achieve good results with spatial pyramids we think that can provide a better accuracy using spatial information. \n"
   ]
  },
  {
   "cell_type": "code",
   "execution_count": null,
   "metadata": {},
   "outputs": [],
   "source": []
  }
 ],
 "metadata": {
  "kernelspec": {
   "display_name": "Python 3",
   "language": "python",
   "name": "python3"
  },
  "language_info": {
   "codemirror_mode": {
    "name": "ipython",
    "version": 3
   },
   "file_extension": ".py",
   "mimetype": "text/x-python",
   "name": "python",
   "nbconvert_exporter": "python",
   "pygments_lexer": "ipython3",
   "version": "3.6.7"
  }
 },
 "nbformat": 4,
 "nbformat_minor": 2
}
